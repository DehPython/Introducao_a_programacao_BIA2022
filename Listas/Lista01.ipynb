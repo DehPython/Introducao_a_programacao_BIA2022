{
 "cells": [
  {
   "cell_type": "code",
   "execution_count": null,
   "metadata": {
    "id": "jIgON-7s2QKj",
    "pycharm": {
     "name": "#%%\n"
    }
   },
   "outputs": [],
   "source": [
    "#1) O proprietário da empresa ABC LTDA, ficou sabendo do BIA/UFG e precisa de um programa de computador para calcular onovo salário que  seus funcionários,\n",
    "# de um modo mais inteligente, eles irão receber a partir  do mês que vem um aumento. Sabendo que o aumento de salário para  todos os funcionários será de 25%,\n",
    "#faça um programa que lê o valor do  salário atual do funcionário e informa o seu novo salário acrescido de 25%.\n",
    "\n",
    "#VARIAVEIS\n",
    "nome = str(input('Insira o nome do(a) funcionario(a): '))\n",
    "salario = float(input('Insira o salario do(a) funcionario(a): '))\n",
    "perct_aumento = 25/100\n",
    "#PROGRAMA\n",
    "novo_salario = (salario*(1+perct_aumento))\n",
    "print(f'O funcionário {nome} tinha um salário de R${salario} após o aumento de 25% o salario atual é de R${novo_salario}')"
   ]
  },
  {
   "cell_type": "code",
   "execution_count": null,
   "metadata": {
    "id": "e4aHAN0A2Yn0",
    "pycharm": {
     "name": "#%%\n"
    }
   },
   "outputs": [],
   "source": [
    "#2) Um dos sócios da empresa XYZ LTDA ficou sabendo que a turma do BIA  desenvolveu um programa de reajuste salarial para a empresa ABC LTDA e pediu que você \n",
    "#desenvolva um programa similar. Na verdade ele está  pedindo que você acrescente ao programa anterior à possibilidade dele  informar não somente o salário atual\n",
    "#do funcionário, mas também o valor  percentual que deve ser incrementado para aquele funcionário, pois ele irá  aplicar valores percentuais diferentes a cada funcionário.\n",
    "\n",
    "#VARIAVEIS\n",
    "nome = str(input('Insira o nome do(a) funcionario(a): '))\n",
    "salario = float(input('Insira o salario do(a) funcionario(a): '))\n",
    "percent = float(input('Insira o valor desejado de aumento em porcentagem: (apenas numeros, sem % )'))\n",
    "perct_aumento = percent/100\n",
    "#PROGRAMA\n",
    "novo_salario = (salario*(1+perct_aumento))\n",
    "print(f'O funcionário {nome} tinha um salário de R${salario} após o aumento de {percent}% o salario atual é de R${novo_salario}')"
   ]
  },
  {
   "cell_type": "code",
   "execution_count": null,
   "metadata": {
    "id": "lRiV-pJW3XNI",
    "pycharm": {
     "name": "#%%\n"
    }
   },
   "outputs": [],
   "source": [
    "#3)Crie um programa que lê o ano de nascimento de uma pessoa e o ano  atual. Calcule e mostre qual é: a idade da pessoa em anos, a idade da pessoa em meses, \n",
    "#a idade da pessoa em dias e a idade da pessoa em semanas.\n",
    "\n",
    "#VARIAVEIS\n",
    "ano0 = int(input('Qual seu ano de nascimento? '))\n",
    "anoA = int(input('Em que ano nós estamos? '))\n",
    "idade_anos = (anoA - ano0)\n",
    "idade_meses = (idade_anos*12) #ano tem 12 meses\n",
    "idade_semanas = (idade_meses*4) #mes tem 4 semanas\n",
    "ano_bissexto = idade_anos/4 \n",
    "ano_bissexto = round(ano_bissexto) \n",
    "idade_dias = (365*idade_anos)+ano_bissexto #A parte que deu mais trabalho kk\n",
    "\n",
    "#PROGRAMA\n",
    "print(f'Sua idade é {idade_anos} anos, voce ja viveu {idade_meses} meses ou {idade_semanas} semanas ou {idade_dias} dias.')\n",
    "\n",
    "\n"
   ]
  },
  {
   "cell_type": "code",
   "execution_count": null,
   "metadata": {
    "id": "ebxHi1qHA8LX",
    "pycharm": {
     "name": "#%%\n"
    }
   },
   "outputs": [],
   "source": [
    "#4) Pedro comprou um saco de ração com peso em quilos. Ele possui dois  gatos, para os quais fornece a quantidade de ração em gramas.\n",
    "#A  quantidade diária de ração fornecida para cada gato é sempre a mesma.  Faça um programa que receba o peso do saco de ração e a quantidade de  ração fornecida \n",
    "#para cada gato, calcule e mostre quanto restará de ração no saco após cinco dias.  \n",
    "\n",
    "#VARIAVEIS\n",
    "saco = float(input('Insira o peso do saco em KG: '))\n",
    "\n",
    "saco = saco * 1000\n",
    "\n",
    "comida = float(input('Insira a quantidade de ração fornecida a 1 gato em gramas '))\n",
    "\n",
    "qntd_dias = int(input('Quantidade de dias (considere o primeiro dia como dia 1) '))\n",
    "#PROGRAMA (Quis deixar o codigo um pouco mais sofisticado ao inves de só multiplicar por 5, assim o input fica mais genérico)\n",
    "\n",
    "racao_consumida = 2*comida*qntd_dias\n",
    "resto = saco - racao_consumida\n",
    "if saco < resto:\n",
    "    print('A comida acabará anteriormente.' )\n",
    "\n",
    "elif saco == racao_consumida:\n",
    "    print('A ração irá acabar exatamente nesse dia sem sobrar restos.')\n",
    "\n",
    "else:\n",
    "    print(f'Já foram consumidas {racao_consumida} gramas de ração, restam {resto} gramas no saco.')\n",
    "\n",
    "\n"
   ]
  },
  {
   "cell_type": "code",
   "execution_count": null,
   "metadata": {
    "id": "XoEB-SvyJTcF",
    "pycharm": {
     "name": "#%%\n"
    }
   },
   "outputs": [],
   "source": [
    "#5) Ler dois valores para as variáveis A e B e efetuar a troca dos valores de  forma que a variável A passe a possuir o valor da variável B \n",
    "#e a variável B  passe a possuir o valor da variável A. Apresentar os valores após a  efetivação do processamento da troca.\n",
    "\n",
    "a = str(input('Insira um valor '))\n",
    "b = str(input('Insira um segundo valor '))\n",
    "\n",
    "operador = b\n",
    "b = a\n",
    "a = operador \n",
    "print(a, b)"
   ]
  },
  {
   "cell_type": "code",
   "execution_count": null,
   "metadata": {
    "id": "CA6hySk8K9s6",
    "pycharm": {
     "name": "#%%\n"
    }
   },
   "outputs": [],
   "source": [
    "#Elaborar um programa que calcule e apresente o valor do volume de uma  caixa retangular, utilizando a fórmula VOLUME <- COMPRIMENTO *  LARGURA * ALTURA.  \n",
    "\n",
    "#VARIAVEIS\n",
    "print('Usuario, não se esqueça de inserir todas as medidas na mesma unidade métrica.')\n",
    "unidade = str(input('Qual unidade de medida você está usando? '))\n",
    "comprimento = float(input('Insira o comprimento: '))\n",
    "largura = float(input('Insira a largur: '))\n",
    "altura = float(input('Insira a altura: '))\n",
    "\n",
    "#PROGRAMA\n",
    "volume = comprimento*altura*largura\n",
    "print(f'O volume é de {volume} {unidade}³')\n"
   ]
  },
  {
   "cell_type": "code",
   "execution_count": null,
   "metadata": {
    "id": "I8XnLgLgNUEK",
    "pycharm": {
     "name": "#%%\n"
    }
   },
   "outputs": [],
   "source": [
    "#7) Ler dois valores numéricos inteiros (representados pelas variáveis A e B)  e apresentar o resultado do quadrado da diferença do primeiro valor  (variável A)\n",
    "# em relação ao segundo valor (variável B).  \n",
    "\n",
    "#VARIAVEIS\n",
    "print('Calculadora do quadrado da diferença')\n",
    "a = int(input('Insira um numero inteiro '))\n",
    "b = int(input('Insira um segundo numero inteiro'))\n",
    "\n",
    "#PROGRAMA\n",
    "resultado = (a-b)**2\n",
    "print(f'O quadrado da diferença entre eles é: {resultado}')\n",
    "\n",
    "\n"
   ]
  },
  {
   "cell_type": "code",
   "execution_count": null,
   "metadata": {
    "id": "t01gKDqHPE4f",
    "pycharm": {
     "name": "#%%\n"
    }
   },
   "outputs": [],
   "source": [
    "#8) Preocupados com o valor do dólar, uma importadora pede para os alunos  do BIA analisarem um problema.\n",
    "#Elaborar um programa que apresente o  valor da conversão em real (R$) de um valor lido em dólar (US$). O  programa deve solicitar o valor da cotação do dólar.\n",
    "\n",
    "#a) qual o valor para o dólar de hoje. Como faria? -PROFESSOR\n",
    "\n",
    "#VARIAVEIS\n",
    "print('Usuario, caso os valores cotação como preço do produto possuirem virgula (,) substitua por ponto (.)')\n",
    "cot = float(input('Insira o valor de 1 Dólar(US$) em Real(R$), Hoje '))\n",
    "doll = float(input('Insira o preço do produto em Dólar(US$) '))\n",
    "#PROGRAMA\n",
    "brl = cot * doll\n",
    "print('O preço do produto em Reais(R$) é de {:.2f}'.format(brl))\n",
    "\n",
    "#b) considerando uma nova implementação como faria uma análise no dólar considerando o dólar anterior. Apresente a % de aumento ou redução do  dólar no dia de hoje. -PROFESSOR\n",
    "\n",
    "#VARIAVEIS\n",
    "cot_hoje = float(input('Insira o valor de 1 Dólar(US$) em Real(R$), Hoje '))\n",
    "#PROGRAMA\n",
    "if cot_hoje > cot:\n",
    "    var_cot = (cot_hoje / cot)*100\n",
    "    print(f'A cotação do Dólar subiu em {var_cot}% desde a ultima análise')\n",
    "elif cot_hoje == cot:\n",
    "    print('A cotação do Dólar não sofreu alterações desde a ultima análise.')\n",
    "else:\n",
    "    var_cot = (cot_hoje / cot)*100\n",
    "    print(f'A cotação do Dólar caiu em {var_cot}% desde a ultima análise')\n",
    "\n"
   ]
  },
  {
   "cell_type": "code",
   "execution_count": null,
   "metadata": {
    "id": "7wmwXE8Gruat",
    "pycharm": {
     "name": "#%%\n"
    }
   },
   "outputs": [],
   "source": [
    "#9) Construir um programa que leia três valores numéricos inteiros  (representados pelas variáveis A, B e C)\n",
    "\n",
    "#a) apresente como resultado final o valor do quadrado da soma dos três valores lidos. -PROFESSOR\n",
    "\n",
    "#VARIAVEIS\n",
    "a = int(input('Insira o valor da variavel A '))\n",
    "b = int(input('Insira o valor da variavel B '))\n",
    "c = int(input('Insira o valor da variavel C '))\n",
    "#PROGRAMA\n",
    "soma = (a+b+c)**2\n",
    "print(f'O valor da soma ao quadradro dos três valores é: {soma}')\n",
    "\n",
    "#b) apresente qual o quadrado do maior valor. -PROFESSOR\n",
    "\n",
    "#PROGRAMA\n",
    "if b > a and b > c:\n",
    "    maior = b\n",
    "    quadrado =  maior **2\n",
    "    print(f'O quadradro do maior valor é: {quadrado} .')\n",
    "elif c > a and c > b:\n",
    "    maior = c\n",
    "    quadrado =  maior **2\n",
    "    print(f'O quadradro do maior valor é: {quadrado} .')\n",
    "else:\n",
    "    maior = a\n",
    "    quadrado =  maior **2\n",
    "    print(f'O quadradro do maior valor é: {quadrado} .')"
   ]
  },
  {
   "cell_type": "code",
   "execution_count": null,
   "metadata": {
    "colab": {
     "base_uri": "https://localhost:8080/"
    },
    "id": "F0VeCeVJ8Bvc",
    "outputId": "72919fd2-53d9-4719-9714-4760683c4e57",
    "pycharm": {
     "name": "#%%\n"
    }
   },
   "outputs": [
    {
     "name": "stdout",
     "output_type": "stream",
     "text": [
      "0.008181229166666667\n",
      "O peso da esfera é: 0.08181229166666666 N\n"
     ]
    }
   ],
   "source": [
    "#10) Um aluno do BIA colocou uma esfera solida dentro de um aquário quadrado de 25 x 25, fazendo com que transbordasse alguns cm3 de água.\n",
    "#Sabendo que a esfera entrou justa no aquário, qual o peso da esfera. Utilize  a fórmula VOLUME <- (4 / 3) * 3.14159 * (RAIO). Considere a agua pura com densidade 1.\n",
    "\n",
    "v_aquario = 0.25 * 0.25 * 0.25 #em metros\n",
    "densidade = 1\n",
    "raio = 0.25 / 2\n",
    "v_esfera = (4 * 3.141592 * (raio **3) /3)\n",
    "gravidade= 10\n",
    "massa = densidade * v_esfera\n",
    "peso = massa * gravidade\n",
    "print(v_esfera)\n",
    "print(f'O peso da esfera é: {peso} N')\n"
   ]
  }
 ],
 "metadata": {
  "colab": {
   "collapsed_sections": [],
   "name": "ListaDeExercicio01.ipynb",
   "provenance": [],
   "toc_visible": true
  },
  "kernelspec": {
   "display_name": "Python 3 (ipykernel)",
   "language": "python",
   "name": "python3"
  },
  "language_info": {
   "codemirror_mode": {
    "name": "ipython",
    "version": 3
   },
   "file_extension": ".py",
   "mimetype": "text/x-python",
   "name": "python",
   "nbconvert_exporter": "python",
   "pygments_lexer": "ipython3",
   "version": "3.9.12"
  }
 },
 "nbformat": 4,
 "nbformat_minor": 4
}
