{
 "cells": [
  {
   "cell_type": "code",
   "execution_count": null,
   "metadata": {
    "id": "68--EiknaTPZ"
   },
   "outputs": [],
   "source": [
    "#Exercício 1\n",
    "# Faça um programa que peça uma nota, entre zero e dez. Mostre uma mensagem caso o valor\n",
    "# seja invalido e continue pedindo até que o usuário informe o valor válido.\n",
    "\n",
    "while True: #repetidor\n",
    "    nota = float(input('Insira uma nota entre 0 e 10 '))\n",
    "    if 0 <= nota and nota <= 10:\n",
    "    break #quebra loop\n",
    "    print('Valor invalido !!! Insira corretamente...')\n",
    "print(f'A nota foi: {nota}')\n"
   ]
  },
  {
   "cell_type": "code",
   "execution_count": null,
   "metadata": {
    "id": "4-dbLDzzgUO3"
   },
   "outputs": [],
   "source": [
    "#Exercicio 2\n",
    "# Faça um programa que leia um nome de usuário e a sua senha e não aceite a senha igual\n",
    "# ao nome do usuário, mostrando uma mensagem de erro e voltando a pedir informações\n",
    "\n",
    "while True: #repetidor\n",
    "    nome = str(input('Insira um nome de usuário: '))\n",
    "    senha = str(input('Insira uma senha: '))\n",
    "    if nome == senha:\n",
    "    print( 'ERRO! O usuario e senha não podem ser identicos!')\n",
    "    else:\n",
    "    break #quebra loop\n",
    "\n"
   ]
  },
  {
   "cell_type": "code",
   "execution_count": null,
   "metadata": {
    "colab": {
     "base_uri": "https://localhost:8080/"
    },
    "id": "eoQdX_rCkqyM",
    "outputId": "5dec4c3a-edb0-482b-d4df-77eb41da6e72"
   },
   "outputs": [
    {
     "name": "stdout",
     "output_type": "stream",
     "text": [
      "O numero de anos necessarios para A igular ou ultrapassar B é : 63 anos.\n"
     ]
    }
   ],
   "source": [
    "#Exercicio 3\n",
    "#Supondo que a populacao de um pais 'A' seja da ordem de 80000 habitantes com uma taxa anual\n",
    "# de crescimento de 3% e que a população de B seja 200000 habitantes com taxa de crescimento\n",
    "# de 1.5% . Faça um programa que calcula e escreva o numero de anos necessarios para que\n",
    "# a populaçao do país 'A' ultrapasse ou iguale a população do país 'B', mantidas as taxas \n",
    "# de crescimento.\n",
    "\n",
    "a = 80000\n",
    "b = 200000\n",
    "anos = 0\n",
    "\n",
    "while a < b:\n",
    "    a *= 1.03\n",
    "    b *= 1.015\n",
    "  \n",
    "    a = a.__round__() #Não existe numero de pessoa com virgula\n",
    "    b = b.__round__() #Não existe numero de pessoa com virgula\n",
    "    anos += 1\n",
    "\n",
    "    if a >= b:\n",
    "    \n",
    "    print(f'O numero de anos necessarios para A igular ou ultrapassar B é : {anos} anos.')\n",
    "    \n"
   ]
  },
  {
   "cell_type": "code",
   "execution_count": null,
   "metadata": {
    "colab": {
     "base_uri": "https://localhost:8080/"
    },
    "id": "EsBj5YQeF-Uz",
    "outputId": "8beecab6-25d4-4fc8-fdab-9e0d45c71192"
   },
   "outputs": [
    {
     "name": "stdout",
     "output_type": "stream",
     "text": [
      "Insira o numero de habitantes da cidade A: 2\n",
      "Insira o numero de habitantes da cidade B: 2000\n",
      "Insira a taxa de crescimento anual da cidade A: 2\n",
      "Insira a taxa de crescimento anual da cidade B: 1\n",
      "O numero de anos necessarios para que a cidade A ultrapasse ou tenha o numero de habitantes igual a B é : 10 anos.\n"
     ]
    }
   ],
   "source": [
    "#Exercício 3.1\n",
    "#Altere o programa anterior permitindo ao usuário informar as populações e as taxas de crescimento\n",
    "# iniciais. Valide a entrada e permita repetir a operação.\n",
    "\n",
    "a = int(input('Insira o numero de habitantes da cidade A: '))\n",
    "b = int(input('Insira o numero de habitantes da cidade B: '))\n",
    "taxaa = float(input('Insira a taxa de crescimento anual da cidade A: '))\n",
    "taxab = float(input('Insira a taxa de crescimento anual da cidade B: '))\n",
    "anos = 0\n",
    "while a < b:\n",
    "    a *= taxaa\n",
    "    b *= taxab\n",
    "  \n",
    "    a = a.__round__() #Não existe numero de pessoa com virgula\n",
    "    b = b.__round__() #Não existe numero de pessoa com virgula\n",
    "    anos += 1\n",
    "\n",
    "    if a >= b:\n",
    "    print(f'O numero de anos necessarios para que a cidade A ultrapasse ou tenha o numero de habitantes igual a B é : {anos} anos.')\n",
    "    break #Para não gerar mais após satisfazer a condição 1 vez.\n"
   ]
  },
  {
   "cell_type": "code",
   "execution_count": null,
   "metadata": {
    "id": "iBs7J4GDH2S0"
   },
   "outputs": [],
   "source": [
    "#Exercicio 4\n",
    "#Faça um programa que imprima na tela os numeros de 1 a 20, um abaixo do outro.\n",
    "#Depois modifique o programa para que ele mostre os numero um ao lado do outro.\n",
    "\n",
    "#parte 1:\n",
    "\n",
    "for i in range(1,21):\n",
    " \n",
    "  print(i)\n",
    "\n",
    "#parte 2: modifique o programa para que ele mostre os numero um ao lado do outro.\n",
    "print()\n",
    "print('Parte 2: ______________')\n",
    "print()\n",
    "lista = []\n",
    "\n",
    "for i in range(1,21):\n",
    "    lista.append(i)\n",
    "\n",
    "print(lista)"
   ]
  },
  {
   "cell_type": "code",
   "execution_count": null,
   "metadata": {
    "id": "tN3bDbtZXR9P"
   },
   "outputs": [],
   "source": [
    "#Exercício 5\n",
    "#Faça um programa que leia 5 números e informe o maior número.\n",
    "\n",
    "numeros = [1,200,50,25,15] #numeros aleatórios\n",
    "\n",
    "maximo = max(numeros) #Procurar o maior dentro da lista\n",
    "\n",
    "print(maximo)"
   ]
  },
  {
   "cell_type": "code",
   "execution_count": null,
   "metadata": {
    "id": "d25nSIheYwLc"
   },
   "outputs": [],
   "source": [
    "#Exercicio 6\n",
    "#Faça um programa que leia 5 números e informe a soma e a média dos números.\n",
    "\n",
    "numeros = [1,2,3,4,5] #Lista\n",
    "\n",
    "print(sum(numeros)) #A soma dos numeros\n",
    "\n",
    "print((sum(numeros) / len(numeros))) # A média dos numeros"
   ]
  },
  {
   "cell_type": "code",
   "execution_count": null,
   "metadata": {
    "id": "Ei_WGE86aHlj"
   },
   "outputs": [],
   "source": [
    "#Exericio 7\n",
    "#Faça um programa que imprima na tela apenas os números ímpares entre 1 e 50\n",
    "\n",
    "for i in range(1,51,2): #(inicio,fim,passos)\n",
    "    print(i)"
   ]
  },
  {
   "cell_type": "code",
   "execution_count": null,
   "metadata": {
    "id": "Bf4VXvh1cukS"
   },
   "outputs": [],
   "source": [
    "#Exercicio 8\n",
    "#Faça um programa que receba dois números inteiros e gere os números inteiros que estão no\n",
    "#intervalo compreendido por eles.\n",
    "\n",
    "#Parte 1:\n",
    "a = int(input('Insira um numero inteiro: '))\n",
    "b = int(input('Insira outro numero inteiro: '))\n",
    "acumulador = 0 #parte2\n",
    "for i in range(a,b+1):\n",
    "    print(i)\n",
    "    acumulador += i #parte 2\n",
    "\n",
    "#Parte 2:\n",
    "#Altere o programa anterior para mostrar no final a soma dos números.\n",
    "print(acumulador)"
   ]
  },
  {
   "cell_type": "code",
   "execution_count": null,
   "metadata": {
    "id": "-Fr4TFCGeS_g"
   },
   "outputs": [],
   "source": [
    "#Exercício 9\n",
    "#Desenvolva um gerador de tabuada, capaz de gerar a tabuada de qualquer número inteiro entre 1 a 10.\n",
    "# O usúario deve informar de qual numero ele deseja ver a tabuada.\n",
    "\n",
    "n = int(input('Insira um numero inteiro que deseja ver a tabuada: '))\n",
    "for i in range(1,11):\n",
    "    r = n * i #formula\n",
    "  print(f'{n} x {i} = {r}') #texto"
   ]
  },
  {
   "cell_type": "code",
   "execution_count": null,
   "metadata": {
    "id": "uEfuKownhopJ"
   },
   "outputs": [],
   "source": [
    "#Exercício 10 (Questão que achei dificil só consegui entendendo o video do professor sobre fibonacci)\n",
    "#A série de Fibonacci formada pela sequencia 1,1,2,3,5,8,13,21,43,55..... Faça um programa capaz\n",
    "# de gerar a série até o Enésimo termo\n",
    "\n",
    "teto = int(input('Insira um numumero inteiro maximo (teto) para sequencia de Fibonacci: '))\n",
    "\n",
    "n1 = 1\n",
    "n2 = 0\n",
    "n3 = 0\n",
    "n4 = []\n",
    "while n1 <= teto:\n",
    "    n4.append(n1)\n",
    "     n3 = n1 + n2\n",
    "    n2 = n1\n",
    "    n1 = n3\n",
    "\n",
    "print(n4)"
   ]
  },
  {
   "cell_type": "code",
   "execution_count": null,
   "metadata": {
    "id": "CAYvEqIhBPbK"
   },
   "outputs": [],
   "source": [
    "#Exercicio 11\n",
    "#Faça um pograma que calcule o fatorial de um número inteiro fornecido pelo usuário. Ex: 5! = 5 .4 .3 .2 .1 = 120\n",
    "numero = int(input('Insira um número inteiro que deseja ver o fatorial: '))\n",
    "resultado = 1\n",
    "for n in range(1, numero +1):\n",
    "    resultado *= n\n",
    "\n",
    "print(resultado)\n"
   ]
  },
  {
   "cell_type": "code",
   "execution_count": null,
   "metadata": {
    "id": "f4SdAH_sH4Kk"
   },
   "outputs": [],
   "source": [
    "#Exercício 12 (DIFICIL)\n",
    "#Faça um programa que mostre todos os primos entre 1 e N sendo N um número inteiro fornecido pelo\n",
    "#Usuário. O programa deverá mostrar também o número de divisões que ele executou para encontrar \n",
    "#os números primos. Serão avaliados o funcionamento, o estilo e o número de testes (divisões) executados.\n",
    "n = int(input('Digite um número maximo para mostrar todos os primos anteriores a esse numero: '))\n",
    "\n",
    "aux = n\n",
    "\n",
    "primos = []\n",
    "cont = t_divisores = 0\n",
    "\n",
    "while True:\n",
    "    while cont != n:\n",
    "        cont += 1\n",
    "        if n % cont == 0:\n",
    "            t_divisores += 1\n",
    "    if t_divisores == 2:\n",
    "        primos.append(n)\n",
    "\n",
    "    n -= 1\n",
    "    cont -= cont\n",
    "    t_divisores -= t_divisores\n",
    "\n",
    "    if n == 1:\n",
    "        break\n",
    "\n",
    "primos.sort()\n",
    "\n",
    "print(f'Os números primos entre 1 e {aux} são: ')\n",
    "print(primos)\n"
   ]
  },
  {
   "cell_type": "code",
   "execution_count": null,
   "metadata": {
    "id": "8d4vocPgM_Zh"
   },
   "outputs": [],
   "source": [
    "#Exercício 13\n",
    "#Faça um programa que calcule e mostre a média aritmética de N notas.\n",
    "qnt = int(input('Insira a quantidade de notas que irá inserir: '))\n",
    "notas = []\n",
    "for i in range(qnt):\n",
    "    nova_nota = int(input('Insira uma nota: '))\n",
    "    notas.append(nova_nota)\n",
    "\n",
    "media = sum(notas) / len(notas) # A média das notas\n",
    "\n",
    "print(f'A média das notas é: {media}')"
   ]
  },
  {
   "cell_type": "code",
   "execution_count": null,
   "metadata": {
    "colab": {
     "base_uri": "https://localhost:8080/"
    },
    "id": "1aU7QGBfjiGr",
    "outputId": "a2fc041b-b3b8-45e5-b184-4adddd7e9a76"
   },
   "outputs": [
    {
     "name": "stdout",
     "output_type": "stream",
     "text": [
      "Insira o numero de pessoas que irão responder: 1\n",
      "Insira sua idade: 1\n",
      "A turma é Jovem !\n"
     ]
    }
   ],
   "source": [
    "#Exercício 14\n",
    "#Faça um programa que peça para n pessoas a sua idade, ao final o programa devera verificar se a \n",
    "#média de idade da turma varia entre 0 e 25; 26 e 60 ; e maior que 60, então dizer se a turma é jovem\n",
    "#adulta ou idosa.\n",
    "\n",
    "n = int(input('Insira o numero de pessoas que irão responder: '))\n",
    "idades = []\n",
    "for i in range(n):\n",
    "    idade = int(input('Insira sua idade: '))\n",
    "    idades.append(idade)\n",
    "\n",
    "media = sum(idades) / len(idades)\n",
    "\n",
    "if 0 < media and 25 >= media:\n",
    "    print('A turma é Jovem !')\n",
    "elif 60 >= media:\n",
    "    print('A turma é Adulta !')\n",
    "elif media > 60:\n",
    "    print('A turma é Idosa !')\n",
    "else:\n",
    "    print('Erro de digitação ao informar alguma das idades. Insira corretamente.')"
   ]
  },
  {
   "cell_type": "code",
   "execution_count": null,
   "metadata": {
    "id": "0um0qyaypUai"
   },
   "outputs": [],
   "source": [
    "#Exercício 15\n",
    "#Faça um programa que mostre os n termos da série a seguir:\n",
    "# S = 1/1 + 2/3 + 3/5 + 4/7 + 5/9 .... n/m\n",
    "\n",
    "n = int(input('Insira o ultimo termo que deseja ver desta sequencia: '))\n",
    "a = 1\n",
    "b = 1\n",
    "print(f'{a}/{b}')\n",
    "\n",
    "for i in range(1,n + 1):\n",
    "    a += 1\n",
    "    b += 2\n",
    "    print(f'{a}/{b}')\n",
    "\n",
    "\n",
    "\n",
    "\n"
   ]
  },
  {
   "cell_type": "code",
   "execution_count": null,
   "metadata": {
    "id": "GlekFsGwp3oe"
   },
   "outputs": [],
   "source": [
    "#Exercício 16\n",
    "#Numa eleição existem 3 candidatos. Faça um programa que peça o número total de eleitores.\n",
    "#Peça para cada eleitor votar e ao final mostrar o número de votos de cada candidato.\n",
    "\n",
    "eleitores = int(input('Insira o número de eleitores: '))\n",
    "candidato1 = 0\n",
    "candidato2 = 0\n",
    "candidato3 = 0\n",
    "\n",
    "for i in range(eleitores):\n",
    "    print('Para votar no canditato 1 digite 1, no candidato 2 digite 2, no candidato 3 digite 3')\n",
    "    voto = int(input('Insira número do candidato que deseja votar: '))\n",
    "    if voto == 1:\n",
    "        candidato1 += 1\n",
    "    elif voto == 2:\n",
    "        candidato2 += 1\n",
    "    elif voto == 3:\n",
    "        candidato3 += 1\n",
    "    else:\n",
    "    print()\n",
    "    for z in range(5):\n",
    "        print()\n",
    "        print('Houve erro de digitação nos votos !!!')\n",
    "        if z == 5:\n",
    "            break\n",
    "\n",
    "print(f'O candidato 1 teve: {candidato1} votos.')\n",
    "print(f'O candidato 2 teve: {candidato2} votos.')\n",
    "print(f'O canditato 3 teve: {candidato3} votos.')"
   ]
  },
  {
   "cell_type": "code",
   "execution_count": null,
   "metadata": {
    "id": "j7RIMETDxQP6"
   },
   "outputs": [],
   "source": [
    "#Exercício 17 \n",
    "#É O MESMO EXERCICIO 14 (HOUVE ERRO NA LISTA)"
   ]
  },
  {
   "cell_type": "code",
   "execution_count": null,
   "metadata": {
    "id": "qOYbUggGxqYD"
   },
   "outputs": [],
   "source": [
    "#Exercício 18\n",
    "#Faça um programa que calcule o número médio de alunos por turma. Para isto, peça a quantidade de turmas\n",
    "#e a quantidade de alunos para cada turma. As turmas não podem ter mais de 40 alunos.\n",
    "\n",
    "turma = int(input('Insira o numero de turmas: '))\n",
    "\n",
    "alunos = []\n",
    "for i in range(1,turma + 1):\n",
    "    print(f'Insira a seguir o numero de alunos da turma {i}')\n",
    "    aluno = int(input('Insira o numero de alunos desta turma: '))\n",
    "    while aluno > 40: #Proibir que tenha mais de 40 alunos por sala.\n",
    "    print('A turma só pode ter um maximo de 40 alunos')\n",
    "    aluno = int(input('Insira o numero de alunos desta turma corretamente !!: '))\n",
    "    else:\n",
    "    alunos.append(aluno)\n",
    "\n",
    "media =  sum(alunos) / turma \n",
    "media = media.__round__() #não existe meio aluno\n",
    "\n",
    "print(f'A média de alunos por turma é: {media}')"
   ]
  },
  {
   "cell_type": "code",
   "execution_count": null,
   "metadata": {
    "id": "j-raMnCc85Y4"
   },
   "outputs": [],
   "source": [
    "#Exercício 19\n",
    "#Faça um programa que calcule o valor total investido por um colecionador em sua coleção de CDs\n",
    "#e o valor médio gasto em cada um deles. O usuário deverá informar a quantidade de CDs e o valor\n",
    "#para cada um.\n",
    "\n",
    "qntd_cd = int(input('Insira a quantidade de CDs da coleção: '))\n",
    "v_cd = []\n",
    "for i in range(1,qntd_cd + 1):\n",
    "    cd = float(input(f'Insira o valor gasto no {i} CD: '))\n",
    "    v_cd.append(cd)\n",
    "\n",
    "investido =  sum(v_cd)\n",
    "investido = investido.__round__(2) #facilitar o numero com 2 casas decimais.\n",
    "media = investido / qntd_cd\n",
    "\n",
    "print(f'O total do valor investido foi de US${investido} e a média de gasto em cada um foi de US${media}')"
   ]
  },
  {
   "cell_type": "code",
   "execution_count": null,
   "metadata": {
    "id": "SC997YqpDz3f"
   },
   "outputs": [],
   "source": [
    "#Exercício 20\n",
    "# O Sr. Manoel Joaquim expandiu seus negócios para além dos negócios de 1,99 e agora possui\n",
    "# uma loja de conveniências. Faça um programa que implemente uma caixa registradora\n",
    "# rudimentar. O programa deverá receber um número desconhecido de valores referentes\n",
    "# aos preços das mercadorias. Um valor zero deve ser informado pelo operador para indicar \n",
    "#o final da compra.  O programa deve então mostrar o total da compra e perguntar o valor em \n",
    "#dinheiro que o cliente forneceu , para então calcular e mostrar o valor do troco. \n",
    "#Após esta operação, o programa deverá voltar ao ponto inicial, para registrar a próxima \n",
    "#compra. A saída deve ser conforme o exemplo abaixo:\n",
    "\n",
    "valores = []\n",
    "valor = float(input('Insira um valor do produto: '))\n",
    "while valor > 0:\n",
    "  valor = float(input('Insira um valor do produto: '))\n",
    "  \n",
    "  if valor == 0:\n",
    "    break\n",
    "  else:\n",
    "    valores.append(valor)\n",
    "\n",
    "total = sum(valores)\n",
    "total = total.__round__(2) #Converter para 2 casas decimais já que é dinheiro.\n",
    "\n",
    "print(f' Total a pagar: R${total}')\n",
    "\n",
    "dinheiro = float(input('Insira o valor fornecido pelo cliente: R$'))\n",
    "\n",
    "troco = dinheiro - total\n",
    "\n",
    "print(f'O troco é de R${troco}')"
   ]
  },
  {
   "cell_type": "code",
   "execution_count": null,
   "metadata": {
    "id": "RGBQ9ZU7rr8F"
   },
   "outputs": [],
   "source": [
    "#Exercicio 21\n",
    "#O Departamento Estadual de Meteorologia lhe contratou para desenvolver um programa que leia\n",
    "#um conjunto de temperaturas, e informe ao final a menor e a maior temperatura informadas, bem \n",
    "#como a média das temperaturas.\n",
    "\n",
    "temperaturas = []\n",
    "print('Usuario, para encerrar o preenchimento digite: -274 .')\n",
    "temperatura = float(input('Insira um valor da temperatura em celcius: '))\n",
    "\n",
    "while temperatura != -274:\n",
    "  temperatura = float(input('Insira um valor do produto: '))\n",
    "  \n",
    "  if temperatura == -274:\n",
    "    break\n",
    "  else:\n",
    "    temperaturas.append(temperatura)\n",
    "\n",
    "mini = min(temperaturas)\n",
    "maxi = max(temperaturas)\n",
    "\n",
    "media = sum(temperaturas) / len(temperaturas)\n",
    "\n",
    "print(f'A temperatura minima registrada foi: {mini:.2f} graus; assim como a maxima foi de {maxi:.2f} graus e a média delas de todas elas foram {media:.2f} graus celcius')\n"
   ]
  },
  {
   "cell_type": "code",
   "execution_count": null,
   "metadata": {
    "id": "dEtopxblyLJ8"
   },
   "outputs": [],
   "source": [
    "#Exercicio 22\n",
    "#Os numero primos possuem varias aplicaçoes dentro da computação, por exemplo na criptografia.\n",
    "#Um numero primo é aquele que é divisivel apenas por um e por ele mesmo. Faça um programa que\n",
    "#peça um número inteiro e determine se ele é ou não um número primo.\n",
    "\n",
    "n = int(input('Digite um número para saber se é primo: '))\n",
    "\n",
    "aux = n\n",
    "n2 = n\n",
    "\n",
    "primos = []\n",
    "\n",
    "cont = t_divisores = 0\n",
    "\n",
    "while True:\n",
    "\n",
    "\n",
    "  if n == 0: \n",
    "    break\n",
    "\n",
    "\n",
    "  else:\n",
    "\n",
    "    while cont != n:\n",
    "        cont += 1\n",
    "        if n % cont == 0:\n",
    "            t_divisores += 1\n",
    "    if t_divisores == 2:\n",
    "        primos.append(n)\n",
    "\n",
    "    n -= 1\n",
    "    cont -= cont\n",
    "    t_divisores -= t_divisores\n",
    "\n",
    "    if n == 1:\n",
    "        break\n",
    "\n",
    "if n2 in primos:\n",
    "  print(f'O número {n2} é primo')\n",
    "else:\n",
    "  print(f'O número {n2} NÃO é primo')"
   ]
  },
  {
   "cell_type": "code",
   "execution_count": null,
   "metadata": {
    "id": "InkvKrss4V2v"
   },
   "outputs": [],
   "source": [
    "#Exercicio 23\n",
    "#Desenvolva um programa que faça a tabuada de um número qualquer inteiro que será digitado pelo\n",
    "#Usuario, mas a tabuada não deve necessariamente iniciar em 1 e terminar em 10, o valor inicial\n",
    "# e final devem ser informados pelo usuario.\n",
    "\n",
    "n = int(input('Insira um numero inteiro que deseja ver a tabuada: '))\n",
    "inicial = int(input('Insira um numero inteiro que deseja começar sua tabuada: '))\n",
    "final = int(input('Insira um numero inteiro que deseja terminar sua tabuada: '))\n",
    "\n",
    "for i in range(inicial,final + 1):\n",
    "  r = n * i #formula\n",
    "  print(f'{n} x {i} = {r}') #texto"
   ]
  },
  {
   "cell_type": "code",
   "execution_count": null,
   "metadata": {
    "id": "RIs1DS6H6xG6"
   },
   "outputs": [],
   "source": [
    "#Exercicio 24\n",
    "# (Aparentemente a questão está incompleta, faltando quase todos os dados das cidades. )\n",
    "# ~ SEM RESOLUÇÃO ~\n"
   ]
  },
  {
   "cell_type": "code",
   "execution_count": null,
   "metadata": {
    "id": "9JcYlOpD8xLu"
   },
   "outputs": [],
   "source": [
    "#Exercicio 25 \n",
    "#Em uma competição de ginástica, cada atleta recebe votos de sete jurados. A melhor e a pior\n",
    "#nota são eliminadas. A sua nota fica sendo a média dos votos restantes. Você deve fazer um \n",
    "#programa que receba o nome do ginaste e as notas dos sete jurados alcançadas pelo atleta em sua\n",
    "#apresentação e depois informe a sua média, conforme a descrição acima.\n",
    "\n",
    "nome = str(input('Insira o nome do atleta: '))\n",
    "notas = []\n",
    "for i in range(1,8):\n",
    "  nota = float(input(f'Jurado número {i} , Insira a nota do atleta {nome}: '))\n",
    "  notas.append(nota)\n",
    "\n",
    "mini = min(notas)\n",
    "maxi = max(notas)\n",
    "\n",
    "notas.remove(mini)\n",
    "notas.remove(maxi)\n",
    "\n",
    "media = sum(notas) / len(notas)\n",
    "\n",
    "print('Resultado final:')\n",
    "print(f'Atleta: {nome}')\n",
    "print(f'Melhor nota: {maxi}')\n",
    "print(f'Pior nota: {mini}')\n",
    "print(f'Média: {media}')"
   ]
  },
  {
   "cell_type": "code",
   "execution_count": null,
   "metadata": {
    "id": "A3v5RF-PBly_"
   },
   "outputs": [],
   "source": [
    "#Exercicio 26\n",
    "#Faça um programa que leia dez conjuntos de dois valores, o primeiro representando o número do aluno\n",
    "#e o segundo representando a sua altura em centimentros. Encontre o aluno mais alto e o mais baixo. Mostre\n",
    "#o número do aluno mais alto e o número do aluno mais baixo, junto com suas alturas.\n",
    "\n",
    "alturas = []\n",
    "numeros = []\n",
    "\n",
    "for n in range(10):\n",
    "\n",
    "  numero = str(input('Insira o numero do aluno: '))\n",
    "  altura = float(input('Insira a altura do aluno em cm: '))\n",
    "\n",
    "  numeros.append(numero)\n",
    "  alturas.append(altura)\n",
    "\n",
    "maxi = max(alturas)\n",
    "mini = min(alturas)\n",
    "\n",
    "\n",
    "a = alturas.index(maxi)\n",
    "b = alturas.index(mini)\n",
    "\n",
    "aluno_alto = numeros[a]\n",
    "\n",
    "aluno_baixo = numeros[b]\n",
    "\n",
    "print(f'O aluno mais alto é o de numero: {aluno_alto} e tem {maxi}cm de altura.')\n",
    "print(f'O aluno mais baixo é o de numero: {aluno_baixo} e tem {mini}cm de altura.')\n",
    "\n",
    "\n"
   ]
  },
  {
   "cell_type": "code",
   "execution_count": null,
   "metadata": {
    "id": "XRjRUDBQQgJ0"
   },
   "outputs": [],
   "source": [
    "#Exercicio 27 \n",
    "#Peça ao usuário uma quantidade de números a ser informada em seguida, logo após verifique se os números\n",
    "#informados estão em uma sequencia ordenada ou não, se estiver em uma sequencia ordenada imprima se está em\n",
    "#ordem crescente ou decrescente.\n",
    "\n",
    "numeros = []\n",
    "numero = str(input('Insira o numero desejado: '))\n",
    "\n",
    "while numero != (''):\n",
    "  numeros.append(numero)\n",
    "  numero = str(input('Insira o numero desejado: '))\n",
    "\n",
    "else:\n",
    "\n",
    "  numeros_crescente = numeros[:]\n",
    "\n",
    "  numeros_decrescente = numeros[:]\n",
    "  \n",
    "  numeros_crescente.sort()\n",
    "\n",
    "  numeros_decrescente.sort(reverse = True) \n",
    "\n",
    "  print(numeros_crescente)\n",
    "\n",
    "  print(numeros_decrescente)\n",
    "\n"
   ]
  },
  {
   "cell_type": "code",
   "execution_count": null,
   "metadata": {
    "id": "s4RIG8Hs5h3d"
   },
   "outputs": [],
   "source": [
    "#Exercicio 28\n",
    "#Enunciado muito grande, vou copiar não kkkkkk\n",
    "n = int(input('Digite um número para saber todos os divisores primos dele. Obs: Não insira numeros menores que 1 '))\n",
    "while n <= 1:\n",
    "  n = int(input('Digite um número para saber todos os divisores primos dele. Obs: Não insira numeros menores que 1 '))\n",
    "\n",
    "else:\n",
    "  pass\n",
    "\n",
    "numero = n\n",
    "\n",
    "n2 = n\n",
    "resultado = []\n",
    "primos = []\n",
    "cont = t_divisores = 0\n",
    "\n",
    "while True:\n",
    "    while cont != n:\n",
    "        cont += 1\n",
    "        if n % cont == 0:\n",
    "            t_divisores += 1\n",
    "    if t_divisores == 2:\n",
    "        primos.append(n)\n",
    "\n",
    "    n -= 1\n",
    "    cont -= cont\n",
    "    t_divisores -= t_divisores\n",
    "\n",
    "    if n == 1:\n",
    "        break\n",
    "\n",
    "primos.sort(reverse = True)\n",
    "\n",
    "for primo in primos:\n",
    "  if (numero % primo) == 0:\n",
    "    resultado.append(primo)\n",
    "    conta = numero / primo\n",
    "\n",
    "    while conta % primo == 0:\n",
    "      resultado.append(primo)\n",
    "      if conta % primo != 0:\n",
    "        break\n",
    "      else:\n",
    "        conta = conta / primo\n",
    "        \n",
    "\n",
    "  else:\n",
    "    pass\n",
    "  \n",
    "print(resultado)"
   ]
  },
  {
   "cell_type": "code",
   "execution_count": null,
   "metadata": {
    "id": "FxHh-GjKvhFx"
   },
   "outputs": [],
   "source": [
    "#Exercicio 29\n",
    "#Faça um programa que leia um número decimal e o converta para sua representação em fração simplificada\n",
    "\n",
    "numero = str(input('Insira um numero decimal para converter em sua fraçãoo simplificada: '))\n",
    "\n",
    "lista = []\n",
    "\n",
    "tamanho = len(numero) #tamanho string\n",
    "\n",
    "ponto = numero.index('.') #localização do ponto\n",
    "\n",
    "ponto += 1 #eliminar o erro de indice 0 na string\n",
    "\n",
    "resto = (tamanho - ponto) #potencia da diferença\n",
    "\n",
    "numerosemdecimal = numero.replace('.','') #removendo a \"virgula\"\n",
    "\n",
    "numerosemdecimal = int(numerosemdecimal)\n",
    "\n",
    "notacao = 10 ** resto #potencia do 10\n",
    "\n",
    "print(f'A fração é: {numerosemdecimal} / {notacao}')\n",
    "\n",
    "for i in range(2, min(numerosemdecimal, notacao)):\n",
    "  lista.append(i)\n",
    "\n",
    "lista.sort(reverse = True)\n",
    "\n",
    "for divisor in lista:\n",
    "  if numerosemdecimal % divisor == 0 and notacao % divisor == 0:\n",
    "    conta1 = numerosemdecimal / divisor\n",
    "    conta2 = notacao / divisor \n",
    "    while conta1 % divisor == 0 and conta2 % divisor == 0:\n",
    "      conta1 = numerosemdecimal / divisor\n",
    "      conta2 = notacao / divisor \n",
    "    else:\n",
    "      break\n",
    "  else:\n",
    "    pass\n",
    "\n",
    "\n",
    "print(f'A fração simplificada é {conta1:.0f}/{conta2:.0f}')\n"
   ]
  },
  {
   "cell_type": "code",
   "execution_count": 35,
   "metadata": {
    "colab": {
     "base_uri": "https://localhost:8080/"
    },
    "id": "SVDGe6Zj1GRv",
    "outputId": "22356b9d-c86a-4573-9b75-3d11f29df875"
   },
   "outputs": [
    {
     "name": "stdout",
     "output_type": "stream",
     "text": [
      "Insira o numero inteiro que deseja saber se é perfeito: 33550336\n",
      "O numero 33550336 é um numero perfeito\n"
     ]
    }
   ],
   "source": [
    "#Exercicio 30\n",
    "#Dado um número n inteiro e positivo, dizemos n é perfeito se n for igual à soma de seus divisores\n",
    "# positivos diferentes de n. Construa um programa que leia um número inteiro n, apresenta a soma\n",
    "#dos divisores de n e verifica se o número informado é perfeito ou não.\n",
    "\n",
    "n = int(input('Insira o numero inteiro que deseja saber se é perfeito: '))\n",
    "\n",
    "while n <= 1:\n",
    "  n = int(input('Insira um numero inteiro maior que 1'))\n",
    "else:\n",
    "  pass\n",
    "\n",
    "lista = []\n",
    "divisores = []\n",
    "\n",
    "for i in range(1, n):\n",
    "  lista.append(i)\n",
    "\n",
    "lista.sort(reverse = True)\n",
    "\n",
    "for numero in lista:\n",
    "  if n % numero == 0:\n",
    "    divisores.append(numero)\n",
    "  else:\n",
    "    pass\n",
    "\n",
    "if sum(divisores) == n:\n",
    "  print(f'O numero {n} é um numero perfeito')\n",
    "else:\n",
    "  print(f'O numero {n} não é perfeito')\n",
    "\n",
    "\n",
    "    \n"
   ]
  }
 ],
 "metadata": {
  "colab": {
   "collapsed_sections": [],
   "name": "Lista02.ipynb",
   "provenance": []
  },
  "kernelspec": {
   "display_name": "Python 3 (ipykernel)",
   "language": "python",
   "name": "python3"
  },
  "language_info": {
   "codemirror_mode": {
    "name": "ipython",
    "version": 3
   },
   "file_extension": ".py",
   "mimetype": "text/x-python",
   "name": "python",
   "nbconvert_exporter": "python",
   "pygments_lexer": "ipython3",
   "version": "3.9.12"
  }
 },
 "nbformat": 4,
 "nbformat_minor": 4
}
