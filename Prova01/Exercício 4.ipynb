{
 "cells": [
  {
   "cell_type": "markdown",
   "id": "fdf004f5",
   "metadata": {
    "pycharm": {
     "name": "#%% md\n"
    }
   },
   "source": [
    "4 - Um colega do BIA da turma 2021, te enviou um código pedindo para que você olhasse e o ajudasse a corrigir o mesmo. (valor 2.0)\n",
    "\n",
    "A) Explique qual foi o erro e corrija o código para o colega.\n",
    "\n",
    "B) Como você estava aprendendo sobre gráficos, plotou os valores em um gráfico de barras para mostrar ambas as barras uma desordenada e outra ordenada."
   ]
  },
  {
   "cell_type": "markdown",
   "id": "17a244d9",
   "metadata": {
    "pycharm": {
     "name": "#%% md\n"
    }
   },
   "source": [
    "1) O codigo original do individuo estava com erro na parte do While True, primeiramente por que foi escrito de forma miniscula o T de \"True\", outro erro era o usuario usando, if A[cont] == null: , o comando null nem existe em python e que no caso seria None mas ainda assim o codigo continuaria dando erro."
   ]
  },
  {
   "cell_type": "code",
   "execution_count": 8,
   "id": "1d9c8d06",
   "metadata": {
    "pycharm": {
     "name": "#%%\n"
    }
   },
   "outputs": [
    {
     "name": "stdout",
     "output_type": "stream",
     "text": [
      "Arranjo não ordenado:  [6, 4, 1, -9, -10, -1, -5, 9, -2, -4]\n",
      "Arranjo ordenado: [-10, -9, -5, -4, -2, -1, 1, 4, 6, 9]\n"
     ]
    },
    {
     "data": {
      "image/png": "[encoded data removed]",
      "text/plain": [
       "<Figure size 432x288 with 1 Axes>"
      ]
     },
     "metadata": {
      "needs_background": "light"
     },
     "output_type": "display_data"
    },
    {
     "data": {
      "image/png": "[encoded data removed]",
      "text/plain": [
       "<Figure size 432x288 with 1 Axes>"
      ]
     },
     "metadata": {
      "needs_background": "light"
     },
     "output_type": "display_data"
    }
   ],
   "source": [
    "import random\n",
    "import matplotlib.pyplot as plt\n",
    "import numpy as np\n",
    "\n",
    "\n",
    "def ordenacao_selecao(A):\n",
    "    # Verificar o tamanho dinamicamente do vetor A.(~COMENTARIO DO EXERCICIO~)\n",
    "    cont = 0 #contador\n",
    "    while True: #laço de repetição \n",
    "        if A[cont] == A[len(A) - 1]: #Começa pegando o primeiro numero da lista e comparando com o ultimo até chegar no primeiro.\n",
    "            n = cont + 1 #salvar o numero \n",
    "            break #quebrar o codigo\n",
    "        cont += 1 #adicionar mais 1 ao contador para verificar o proximo numero.\n",
    "    # Percorre o arranjo A.(~COMENTARIO DO EXERCICIO~)\n",
    "    for i in range(n):\n",
    "    # Encontra o elemento mínimo em A.(~COMENTARIO DO EXERCICIO~)\n",
    "        minimo = i #atribuindo o valor minimo para ajudar na troca\n",
    "       \n",
    "        for j in range(i + 1, n): #todo o processo de verificação e troca está descrito abaixo.\n",
    "            if A[minimo] > A[j]:\n",
    "                minimo = j\n",
    "        A[i], A[minimo] = A[minimo], A[i]\n",
    "        #???? (como posso colocar ele na posição correta para a saída?)(~COMENTARIO DO EXERCICIO~)\n",
    "        \n",
    "A = random.sample(range(-10, 10), 10)\n",
    "y = A[:] #clonando a lista A\n",
    "print(\"Arranjo não ordenado: \", y)\n",
    "\n",
    "ordenacao_selecao(A) #ordenar a lista A\n",
    "\n",
    "print(\"Arranjo ordenado:\", A) #mostrar arranjo ordenado\n",
    " \n",
    "x = np.arange(10) #criar um lista de 1 até 10 para usar no grafico.\n",
    "\n",
    "def grafico_desordenado(): #função para gerar o grafico desordenado\n",
    "    plt.bar(x,y) #grafico de barras\n",
    "    plt.ylabel('Aleatorios') #dando nome no eixo y\n",
    "    plt.xlabel('Indices') #dando nome no eixo x\n",
    "    plt.show() #mostrar o grafico\n",
    "    \n",
    "def grafico_ordenado(): #função para gerar o grafico ordenado (O codigo abaixo é o mesmo do acima, só mudando a variavel \"y\" por \"A\")\n",
    "    plt.bar(x,A)\n",
    "    plt.ylabel('Aleatorios')\n",
    "    plt.xlabel('Indices')\n",
    "    plt.show()\n",
    "    \n",
    "grafico_desordenado() #chamando a funcao que mostra o grafico desordenado\n",
    "grafico_ordenado() #chamando a funcao que mostra o grafico ordenado"
   ]
  },
  {
   "cell_type": "markdown",
   "id": "3c2426e0",
   "metadata": {
    "pycharm": {
     "name": "#%% md\n"
    }
   },
   "source": [
    "###### Outra forma de fazer e na minha opniao mais inteligente do que a anterior.\n",
    "\n",
    "import random\n",
    "\n",
    "import matplotlib.pyplot as plt\n",
    "\n",
    "import numpy as np\n",
    "\n",
    "A = random.sample(range(-10, 10), 10)\n",
    "\n",
    "y = A[:]\n",
    "\n",
    "def ordenacao_selecao(A):\n",
    "\n",
    "    y.sort()\n",
    "        \n",
    "\n",
    "print(\"Arranjo não ordenado: \", A)\n",
    "\n",
    "ordenacao_selecao(A)\n",
    "\n",
    "print(\"Arranjo ordenado:\", y)\n",
    "\n",
    "x = np.arange(10)\n",
    "\n",
    "def grafico_desordenado():\n",
    "\n",
    "    plt.bar(x,A)\n",
    "    \n",
    "    plt.ylabel('Aleatorios')\n",
    "    \n",
    "    plt.xlabel('Indices')\n",
    "    \n",
    "    plt.show()\n",
    "    \n",
    "def grafico_ordenado():\n",
    "\n",
    "    plt.bar(x,y)\n",
    "    \n",
    "    plt.ylabel('Aleatorios')\n",
    "    \n",
    "    plt.xlabel('Indices')\n",
    "    \n",
    "    plt.show()\n",
    "    \n",
    "grafico_desordenado()\n",
    "\n",
    "grafico_ordenado()"
   ]
  }
 ],
 "metadata": {
  "kernelspec": {
   "display_name": "Python 3 (ipykernel)",
   "language": "python",
   "name": "python3"
  },
  "language_info": {
   "codemirror_mode": {
    "name": "ipython",
    "version": 3
   },
   "file_extension": ".py",
   "mimetype": "text/x-python",
   "name": "python",
   "nbconvert_exporter": "python",
   "pygments_lexer": "ipython3",
   "version": "3.9.12"
  }
 },
 "nbformat": 4,
 "nbformat_minor": 5
}
