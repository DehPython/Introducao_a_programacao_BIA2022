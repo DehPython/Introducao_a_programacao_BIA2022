{
 "cells": [
  {
   "cell_type": "markdown",
   "id": "b65d5577",
   "metadata": {
    "pycharm": {
     "name": "#%% md\n"
    }
   },
   "source": [
    "EXTRA - Você começou a estudar numpy exercitando no colab que o professor Leonardo enviou em sala, gostou muito e quis propor uma questão aceitando o desafio usando o que aprendeu. Desenvolveu uma questão e inclusive que apresentou uma aplicação prática unindo outro conhecimento ou hobby que possui apresentando a solução com um código bem comentado. (valor 1.0)\n",
    "\n",
    "[obs.: o uso agregado ou a substituição por outro framework estudado está liberado por ser uma questão extra. Exemplo: Desenvolvimento usando um conhecimento ou hobby usando um framework de IA que tenha visto nos videos de frameworks das turmas anteriores. ]"
   ]
  },
  {
   "cell_type": "markdown",
   "id": "d3fb9d05",
   "metadata": {
    "pycharm": {
     "name": "#%% md\n"
    }
   },
   "source": [
    "### Você foi encarregado pelo Centro de Excelência em IA para descobrir qual meio de tele-comunicações do CEIA tem mais efeito na quantidade de publico atingindo  em função do investimento em: instagram, linkedIn, Facebook e Eventos. Ademais você tambem foi encarregado de criar um modelo de IA que recebesse os valores investidos em cada meio, e crie-se um modelo de previsão da quantidade de publico que seria esperada atingir.\n",
    "\n",
    "#### Primeiro é mostrado o gráfico que relaciona as colunas da tabela entre sí, mas a parte que realmente importa é a da linha de Alcance, que fornece de forma rapida e intuitiva qual meio telecomunicativo influencia mais no alcance de pessoas atingidas. Por padrão, Evento e Instagram possuem grande influência quando sofrem investimentos (ou não).\n",
    "\n",
    "#### Em seguida criamos uma IA que treinou em cima da nossa base de dados, e por fim ela mostra os resultados (alcance) esperado da tabela nova.\n",
    "\n",
    "\n",
    "\n",
    "###### obs: Os valores da tabela estão em milhares\n",
    "###### Sinta-se a vontade para editar os valores da tabela \"dadosceiafuturo.xlsx\" para descobrir novas previsões da IA.\n"
   ]
  },
  {
   "cell_type": "markdown",
   "id": "be5a8e35",
   "metadata": {
    "pycharm": {
     "name": "#%% md\n"
    }
   },
   "source": [
    "____________________________________________________________________________________________________________________\n",
    "###### Para a execução desse projeto será necessario instalar as bibliotecas matplotlib , seaborn , scikit-learn. \n",
    "###### Eu não estarei dando o comando !pip install , pois ja tenho em minha maquina as bibliotecas, mas caso esteja executando em outro computador, retire a \"#\" do codigo abaixo. (Descomente)"
   ]
  },
  {
   "cell_type": "code",
   "execution_count": 1,
   "id": "a744da60",
   "metadata": {
    "pycharm": {
     "name": "#%%\n"
    }
   },
   "outputs": [],
   "source": [
    "#!pip install matplotlib\n",
    "\n",
    "#!pip install seaborn\n",
    "\n",
    "#!pip install scikit-learn"
   ]
  },
  {
   "cell_type": "code",
   "execution_count": 8,
   "id": "df3846d8",
   "metadata": {
    "pycharm": {
     "name": "#%%\n"
    },
    "scrolled": true,
    "tags": []
   },
   "outputs": [
    {
     "data": {
      "image/png": "[encoded data removed]",
      "text/plain": [
       "<Figure size 432x288 with 2 Axes>"
      ]
     },
     "metadata": {
      "needs_background": "light"
     },
     "output_type": "display_data"
    }
   ],
   "source": [
    "#Todas as importaçoes do projetinho (da pra notar que foi pouca coisa kk)\n",
    "import pandas as pd\n",
    "import numpy as np\n",
    "import seaborn as sns\n",
    "import matplotlib.pyplot as plt\n",
    "#Importar modulo de IA\n",
    "from sklearn.linear_model import LinearRegression #Lembra a equação da reta // função do primeiro grau\n",
    "from sklearn.ensemble import RandomForestRegressor #Perguntas para a base de dados\n",
    "from sklearn.metrics import r2_score #Importando o validador // Accuracy // Precisão da nossa IA\n",
    "\n",
    "#descobrir a correlação dentro da tabela por meio de graficos (matplot & seaborn)\n",
    "\n",
    "tabela = pd.read_excel('dadosceia.xlsx') #importar tabela\n",
    "#parte que cria o grafico bonitinho (obs: se quiser mudar de cor apaga o parametro \"cmap\")\n",
    "corr = tabela.corr() \n",
    "matrix = np.triu(corr)\n",
    "sns.heatmap(corr, annot=True, mask=matrix, cmap=\"YlGnBu\")\n",
    "plt.show()"
   ]
  },
  {
   "cell_type": "code",
   "execution_count": 3,
   "id": "481f38a7",
   "metadata": {
    "pycharm": {
     "name": "#%%\n"
    }
   },
   "outputs": [],
   "source": [
    "#Parte de dados para a Inteligencia Artificcial \n",
    "from sklearn.model_selection import train_test_split #importar uma ferramenta do sklearn para treino da IA\n",
    "#definir x e y (sendo, x =  o que a IA analisa, y = o que ela preve para nós a partir da analise de x)\n",
    "x = tabela[['Instagram','Facebook','Linkedin','Eventos']] #o que vamos analisar\n",
    "y = tabela['Alcance'] #objetivo / o que queremos na saida da previsão\n",
    "\n",
    "#separar os dados em treino e teste\n",
    "#formato padrao do train teste split ---> (x_treino, x_teste, y_treino, y_teste)\n",
    "x_treino, x_teste, y_treino, y_teste = train_test_split(x, y, test_size=0.3) #teste_size define a porcentagem que sera separada para teste.\n"
   ]
  },
  {
   "cell_type": "code",
   "execution_count": 4,
   "id": "5024dc80",
   "metadata": {
    "pycharm": {
     "name": "#%%\n"
    },
    "tags": []
   },
   "outputs": [
    {
     "data": {
      "text/html": [
       "<style>#sk-container-id-1 {color: black;background-color: white;}#sk-container-id-1 pre{padding: 0;}#sk-container-id-1 div.sk-toggleable {background-color: white;}#sk-container-id-1 label.sk-toggleable__label {cursor: pointer;display: block;width: 100%;margin-bottom: 0;padding: 0.3em;box-sizing: border-box;text-align: center;}#sk-container-id-1 label.sk-toggleable__label-arrow:before {content: \"▸\";float: left;margin-right: 0.25em;color: #696969;}#sk-container-id-1 label.sk-toggleable__label-arrow:hover:before {color: black;}#sk-container-id-1 div.sk-estimator:hover label.sk-toggleable__label-arrow:before {color: black;}#sk-container-id-1 div.sk-toggleable__content {max-height: 0;max-width: 0;overflow: hidden;text-align: left;background-color: #f0f8ff;}#sk-container-id-1 div.sk-toggleable__content pre {margin: 0.2em;color: black;border-radius: 0.25em;background-color: #f0f8ff;}#sk-container-id-1 input.sk-toggleable__control:checked~div.sk-toggleable__content {max-height: 200px;max-width: 100%;overflow: auto;}#sk-container-id-1 input.sk-toggleable__control:checked~label.sk-toggleable__label-arrow:before {content: \"▾\";}#sk-container-id-1 div.sk-estimator input.sk-toggleable__control:checked~label.sk-toggleable__label {background-color: #d4ebff;}#sk-container-id-1 div.sk-label input.sk-toggleable__control:checked~label.sk-toggleable__label {background-color: #d4ebff;}#sk-container-id-1 input.sk-hidden--visually {border: 0;clip: rect(1px 1px 1px 1px);clip: rect(1px, 1px, 1px, 1px);height: 1px;margin: -1px;overflow: hidden;padding: 0;position: absolute;width: 1px;}#sk-container-id-1 div.sk-estimator {font-family: monospace;background-color: #f0f8ff;border: 1px dotted black;border-radius: 0.25em;box-sizing: border-box;margin-bottom: 0.5em;}#sk-container-id-1 div.sk-estimator:hover {background-color: #d4ebff;}#sk-container-id-1 div.sk-parallel-item::after {content: \"\";width: 100%;border-bottom: 1px solid gray;flex-grow: 1;}#sk-container-id-1 div.sk-label:hover label.sk-toggleable__label {background-color: #d4ebff;}#sk-container-id-1 div.sk-serial::before {content: \"\";position: absolute;border-left: 1px solid gray;box-sizing: border-box;top: 0;bottom: 0;left: 50%;z-index: 0;}#sk-container-id-1 div.sk-serial {display: flex;flex-direction: column;align-items: center;background-color: white;padding-right: 0.2em;padding-left: 0.2em;position: relative;}#sk-container-id-1 div.sk-item {position: relative;z-index: 1;}#sk-container-id-1 div.sk-parallel {display: flex;align-items: stretch;justify-content: center;background-color: white;position: relative;}#sk-container-id-1 div.sk-item::before, #sk-container-id-1 div.sk-parallel-item::before {content: \"\";position: absolute;border-left: 1px solid gray;box-sizing: border-box;top: 0;bottom: 0;left: 50%;z-index: -1;}#sk-container-id-1 div.sk-parallel-item {display: flex;flex-direction: column;z-index: 1;position: relative;background-color: white;}#sk-container-id-1 div.sk-parallel-item:first-child::after {align-self: flex-end;width: 50%;}#sk-container-id-1 div.sk-parallel-item:last-child::after {align-self: flex-start;width: 50%;}#sk-container-id-1 div.sk-parallel-item:only-child::after {width: 0;}#sk-container-id-1 div.sk-dashed-wrapped {border: 1px dashed gray;margin: 0 0.4em 0.5em 0.4em;box-sizing: border-box;padding-bottom: 0.4em;background-color: white;}#sk-container-id-1 div.sk-label label {font-family: monospace;font-weight: bold;display: inline-block;line-height: 1.2em;}#sk-container-id-1 div.sk-label-container {text-align: center;}#sk-container-id-1 div.sk-container {/* jupyter's `normalize.less` sets `[hidden] { display: none; }` but bootstrap.min.css set `[hidden] { display: none !important; }` so we also need the `!important` here to be able to override the default hidden behavior on the sphinx rendered scikit-learn.org. See: https://github.com/scikit-learn/scikit-learn/issues/21755 */display: inline-block !important;position: relative;}#sk-container-id-1 div.sk-text-repr-fallback {display: none;}</style><div id=\"sk-container-id-1\" class=\"sk-top-container\"><div class=\"sk-text-repr-fallback\"><pre>RandomForestRegressor()</pre><b>In a Jupyter environment, please rerun this cell to show the HTML representation or trust the notebook. <br />On GitHub, the HTML representation is unable to render, please try loading this page with nbviewer.org.</b></div><div class=\"sk-container\" hidden><div class=\"sk-item\"><div class=\"sk-estimator sk-toggleable\"><input class=\"sk-toggleable__control sk-hidden--visually\" id=\"sk-estimator-id-1\" type=\"checkbox\" checked><label for=\"sk-estimator-id-1\" class=\"sk-toggleable__label sk-toggleable__label-arrow\">RandomForestRegressor</label><div class=\"sk-toggleable__content\"><pre>RandomForestRegressor()</pre></div></div></div></div></div>"
      ],
      "text/plain": [
       "RandomForestRegressor()"
      ]
     },
     "execution_count": 4,
     "metadata": {},
     "output_type": "execute_result"
    }
   ],
   "source": [
    "#Chamando 2 IA's // dando nome a elas\n",
    "ia_regressao_linear = LinearRegression()\n",
    "ia_arvoredecisao = RandomForestRegressor()\n",
    "\n",
    "#Treinar as IA's\n",
    "ia_regressao_linear.fit(x_treino, y_treino)\n",
    "ia_arvoredecisao.fit(x_treino, y_treino)\n"
   ]
  },
  {
   "cell_type": "code",
   "execution_count": 5,
   "id": "39f0887f",
   "metadata": {
    "pycharm": {
     "name": "#%%\n"
    }
   },
   "outputs": [
    {
     "name": "stdout",
     "output_type": "stream",
     "text": [
      "A IA de Arvore de decisão obteve maior score; 93.5428% de precisão, a outra IA obteve: 71.6637% de precisão \n"
     ]
    }
   ],
   "source": [
    "previsao_regressaolinear = ia_regressao_linear.predict(x_teste) #previsão da ia regressao linear\n",
    "previsao_arvoredecisao = ia_arvoredecisao.predict(x_teste) #previsao da ia de arvore de decisao\n",
    "\n",
    "#compara as previsões com o gabarito\n",
    "score_ia_rlinear = r2_score(y_teste, previsao_regressaolinear) #atribuir o score da regressao linear\n",
    "score_ia_arvore = r2_score(y_teste, previsao_arvoredecisao) #atribuir o score da arvore de decisao\n",
    "\n",
    "if score_ia_rlinear > score_ia_arvore: #descobrir qual a melhor IA\n",
    "    print(f'A IA de Regressão linear obteve maior score; {score_ia_rlinear:.4%} de precisão, a outra IA obteve: {score_ia_arvore:.4%} de precisão ')\n",
    "else:\n",
    "    print(f'A IA de Arvore de decisão obteve maior score; {score_ia_arvore:.4%} de precisão, a outra IA obteve: {score_ia_rlinear:.4%} de precisão ')"
   ]
  },
  {
   "cell_type": "code",
   "execution_count": 6,
   "id": "c63d1eb3",
   "metadata": {
    "pycharm": {
     "name": "#%%\n"
    }
   },
   "outputs": [
    {
     "data": {
      "text/html": [
       "<div>\n",
       "<style scoped>\n",
       "    .dataframe tbody tr th:only-of-type {\n",
       "        vertical-align: middle;\n",
       "    }\n",
       "\n",
       "    .dataframe tbody tr th {\n",
       "        vertical-align: top;\n",
       "    }\n",
       "\n",
       "    .dataframe thead th {\n",
       "        text-align: right;\n",
       "    }\n",
       "</style>\n",
       "<table border=\"1\" class=\"dataframe\">\n",
       "  <thead>\n",
       "    <tr style=\"text-align: right;\">\n",
       "      <th></th>\n",
       "      <th>Instagram</th>\n",
       "      <th>Facebook</th>\n",
       "      <th>Linkedin</th>\n",
       "      <th>Eventos</th>\n",
       "      <th>Previsão</th>\n",
       "    </tr>\n",
       "  </thead>\n",
       "  <tbody>\n",
       "    <tr>\n",
       "      <th>0</th>\n",
       "      <td>23.8</td>\n",
       "      <td>15.9</td>\n",
       "      <td>18.3</td>\n",
       "      <td>7.8</td>\n",
       "      <td>6.481</td>\n",
       "    </tr>\n",
       "    <tr>\n",
       "      <th>1</th>\n",
       "      <td>97.5</td>\n",
       "      <td>16.9</td>\n",
       "      <td>19.1</td>\n",
       "      <td>80.2</td>\n",
       "      <td>11.906</td>\n",
       "    </tr>\n",
       "    <tr>\n",
       "      <th>2</th>\n",
       "      <td>204.1</td>\n",
       "      <td>12.6</td>\n",
       "      <td>53.4</td>\n",
       "      <td>220.3</td>\n",
       "      <td>18.232</td>\n",
       "    </tr>\n",
       "    <tr>\n",
       "      <th>3</th>\n",
       "      <td>195.4</td>\n",
       "      <td>3.5</td>\n",
       "      <td>23.5</td>\n",
       "      <td>59.6</td>\n",
       "      <td>16.251</td>\n",
       "    </tr>\n",
       "    <tr>\n",
       "      <th>4</th>\n",
       "      <td>67.8</td>\n",
       "      <td>29.3</td>\n",
       "      <td>49.6</td>\n",
       "      <td>0.7</td>\n",
       "      <td>9.685</td>\n",
       "    </tr>\n",
       "    <tr>\n",
       "      <th>5</th>\n",
       "      <td>281.4</td>\n",
       "      <td>16.7</td>\n",
       "      <td>26.2</td>\n",
       "      <td>265.2</td>\n",
       "      <td>20.026</td>\n",
       "    </tr>\n",
       "    <tr>\n",
       "      <th>6</th>\n",
       "      <td>69.2</td>\n",
       "      <td>27.1</td>\n",
       "      <td>18.3</td>\n",
       "      <td>8.4</td>\n",
       "      <td>9.687</td>\n",
       "    </tr>\n",
       "    <tr>\n",
       "      <th>7</th>\n",
       "      <td>147.3</td>\n",
       "      <td>16.0</td>\n",
       "      <td>19.5</td>\n",
       "      <td>219.8</td>\n",
       "      <td>19.012</td>\n",
       "    </tr>\n",
       "  </tbody>\n",
       "</table>\n",
       "</div>"
      ],
      "text/plain": [
       "   Instagram  Facebook  Linkedin  Eventos  Previsão\n",
       "0       23.8      15.9      18.3      7.8     6.481\n",
       "1       97.5      16.9      19.1     80.2    11.906\n",
       "2      204.1      12.6      53.4    220.3    18.232\n",
       "3      195.4       3.5      23.5     59.6    16.251\n",
       "4       67.8      29.3      49.6      0.7     9.685\n",
       "5      281.4      16.7      26.2    265.2    20.026\n",
       "6       69.2      27.1      18.3      8.4     9.687\n",
       "7      147.3      16.0      19.5    219.8    19.012"
      ]
     },
     "metadata": {},
     "output_type": "display_data"
    }
   ],
   "source": [
    "previsao_futura_ceia = pd.read_excel('dadosceiafuturo.xlsx') #adicionando o arquivo que seria a base de dados atual para realizar a previsao\n",
    "nova_previsao = ia_arvoredecisao.predict(previsao_futura_ceia) #atribuindo nova precisao\n",
    "previsao_futura_ceia['Previsão'] = nova_previsao #Criando uma nova coluna chamada Previsão, com a resposta da previsao da IA.\n",
    "\n",
    "display(previsao_futura_ceia) #Mostrar ao usuario a tabela e a nova previsão."
   ]
  },
  {
   "cell_type": "markdown",
   "id": "60e51af9",
   "metadata": {
    "pycharm": {
     "name": "#%% md\n"
    }
   },
   "source": [
    "###### Essa questão me levou 1 dia e 2horas para ser feita (levou todo meu Fim de semana embora kk), espero que goste :)\n",
    "###### Agradecimento ao professor Anderson Soares que me respondeu no whatsapp me informando que os meios de tele-comunição do CEIA são Instagram, Fan page Facebook, LinkedIn e Eventos corporativos com empresas. Assim podendo deixar a questão um pouco mais proxima da realidade."
   ]
  }
 ],
 "metadata": {
  "kernelspec": {
   "display_name": "Python 3 (ipykernel)",
   "language": "python",
   "name": "python3"
  },
  "language_info": {
   "codemirror_mode": {
    "name": "ipython",
    "version": 3
   },
   "file_extension": ".py",
   "mimetype": "text/x-python",
   "name": "python",
   "nbconvert_exporter": "python",
   "pygments_lexer": "ipython3",
   "version": "3.9.12"
  }
 },
 "nbformat": 4,
 "nbformat_minor": 5
}
