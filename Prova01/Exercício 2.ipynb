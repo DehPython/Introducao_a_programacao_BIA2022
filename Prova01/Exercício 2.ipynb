{
 "cells": [
  {
   "cell_type": "markdown",
   "id": "a3676fd0",
   "metadata": {},
   "source": [
    "2 - Você ingressou em uma fase de um projeto de pesquisa no CEIA, nesse projeto você irá auxiliar na análise de dados médicos para um plano de saúde. Foi levantada a planilha de dados a partir da mineração dos dados da operadora junto com seus médicos, (planilha publicado no link https://bit.ly/3RhcnGL). (valor 2.5)\n",
    "\n",
    "Ficou sob sua responsabilidade analisar os dados que seu time processou e encontrar qual o paciente(s) que possui maior risco de vida. Você avaliou e encontrou também a faixa de IMC e o IMC médio dos pacientes\n",
    "\n",
    "###DICA:\n",
    "O coordenador do projeto te enviou o código para te ajudar a “puxar os dados da planilha excel da pesquisa para o python” no formato de lista para que você possa alterar os dados.\n",
    "____________________________________________________________________________________________________________________"
   ]
  },
  {
   "cell_type": "markdown",
   "id": "46a2c276",
   "metadata": {},
   "source": [
    "IMC =  PESO / (ALTURA)²\n",
    "\n",
    "Resultado_______________Situação\n",
    "\n",
    "\n",
    "Abaixo de 17_____________Muito abaixo do peso\n",
    "\n",
    "\n",
    "Entre 17 e 18,49__________Abaixo do peso\n",
    "\n",
    "\n",
    "Entre 18,5 e 24,99_________Peso normal\n",
    "\n",
    "\n",
    "Entre 25 e 29,99__________Acima do peso\n",
    "\n",
    "\n",
    "Entre 30 e 34,99__________Obesidade I\n",
    "\n",
    "\n",
    "Entre 35 e 39,99__________Obesidade II (severa)\n",
    "\n",
    "\n",
    "Acima de 40______________Obesidade III (mórbida)\n",
    "\n",
    "##### Nesse exercicio será considerado tambem as pessoas com IMC muito abaixo, pois de acordo com o site \n",
    "\n",
    "https://veja.abril.com.br/saude/estar-abaixo-do-peso-eleva-risco-de-vida-mais-do-que-obesidade/       \n",
    "##### pessoas com o IMC muito baixo tem risco de vida até maior do que pessoas com IMC muito alto, ao contrario do que o senso comum pensa que IMC ruim é somente pessoas na faixa da obesidade morbida."
   ]
  },
  {
   "cell_type": "markdown",
   "id": "d74f05bd",
   "metadata": {},
   "source": [
    "### Para resolver esse problema mais facilmente, eu editei a tabela do excel criando uma coluna de IMC ."
   ]
  },
  {
   "cell_type": "code",
   "execution_count": 1,
   "id": "7694a4dd",
   "metadata": {
    "scrolled": true
   },
   "outputs": [
    {
     "name": "stdout",
     "output_type": "stream",
     "text": [
      "O paciente 3258 está com risco de vida. Possui um IMC de 61.2244897959184 considerado muito alto\n",
      "O paciente 6029 está com risco de vida. Possui um IMC de 61.2244897959184 considerado muito alto\n",
      "O paciente 21134 está com risco de vida. Possui um IMC de 61.2244897959184 considerado muito alto\n",
      "O paciente 21220 está com risco de vida. Possui um IMC de 61.2244897959184 considerado muito alto\n",
      "O paciente 3630 está com risco de vida. Possui um IMC de 10.5193951347798 considerado muito baixo\n",
      "O paciente 4789 está com risco de vida. Possui um IMC de 10.5193951347798 considerado muito baixo\n",
      "O paciente 8167 está com risco de vida. Possui um IMC de 10.5193951347798 considerado muito baixo\n",
      "O paciente 15342 está com risco de vida. Possui um IMC de 10.5193951347798 considerado muito baixo\n",
      "O paciente 21382 está com risco de vida. Possui um IMC de 10.5193951347798 considerado muito baixo\n",
      "O paciente 23955 está com risco de vida. Possui um IMC de 10.5193951347798 considerado muito baixo\n",
      "A faixa média dos pacientes está: Acima do peso, com um IMC de 29.34\n"
     ]
    }
   ],
   "source": [
    "import pandas as pd\n",
    "\n",
    "#PARTE DE ACHAR OS PACIENTES COM MAIOR RISCO DE VIDA\n",
    "dados_df = pd.read_excel('dadosmedicos.xlsx') #Importar a base de dados\n",
    "imces = dados_df['IMC'] #Pegar a coluna de IMC's\n",
    "maxi = max(imces) # Procurar na coluna de IMC's qual o maior valor de IMC\n",
    "mini = min(imces) # Procurar na coluna de IMC's qual o menor valor de IMC\n",
    "\n",
    "encontrados_alto = dados_df.loc[dados_df['IMC'] == maxi] #Pegar a linha que cada IMC alto foi encontrado\n",
    "pacientes_alto = encontrados_alto['nome'] #Separar apenas a coluna de nomes\n",
    "\n",
    "encontrados_baixo = dados_df.loc[dados_df['IMC'] == mini]#Pegar a linha que cada IMC baixo foi encontrado\n",
    "pacientes_baixo = encontrados_baixo['nome'] #Separar apenas a coluna de nomes\n",
    "\n",
    "for paciente in pacientes_alto: #Mostrar o(s) nome(s) do(s) paciente(s) com maior IMC \n",
    "    print(f'O {paciente} está com risco de vida. Possui um IMC de {maxi} considerado muito alto')\n",
    "    \n",
    "    \n",
    "for paciente in pacientes_baixo:#Mostrar o(s) nome(s) do(s) paciente(s) com menor IMC\n",
    "    print(f'O {paciente} está com risco de vida. Possui um IMC de {mini} considerado muito baixo')\n",
    "    \n",
    "\n",
    "#FAIXA DE IMC E O IMC MÉDIO DOS PACIENTES\n",
    "\n",
    "media = sum(dados_df['IMC'])/len(dados_df['IMC']) #Média\n",
    "media = media.__round__(2) #Arredondando para evitar muitas casas decimais.\n",
    "\n",
    "#Condiçoes\n",
    "if media < 17:\n",
    "  print(f'A faixa média dos pacientes está: Muito abaixo do peso, com um IMC de {media}')\n",
    "elif media <= 18.49:\n",
    "  print(f'A faixa média dos pacientes está: Abaixo do peso, com um IMC de {media}')\n",
    "elif media <= 24.99:\n",
    "  print(f'A faixa média dos pacientes está: Peso normal, com um IMC de {media}')\n",
    "elif media <= 29.99:\n",
    "  print(f'A faixa média dos pacientes está: Acima do peso, com um IMC de {media}')\n",
    "elif media <= 34.99:\n",
    "  print(f'A faixa média dos pacientes está: Obesidade I, com um IMC de {media}')\n",
    "elif media <= 39.99:\n",
    "  print(f'A faixa média dos pacientes está: Obesidade II (severa), com um IMC de {media}')\n",
    "else:\n",
    "  print(f'A faixa média dos pacientes está: Obesidade III (mórbida), com um IMC de {media}')"
   ]
  }
 ],
 "metadata": {
  "kernelspec": {
   "display_name": "Python 3 (ipykernel)",
   "language": "python",
   "name": "python3"
  },
  "language_info": {
   "codemirror_mode": {
    "name": "ipython",
    "version": 3
   },
   "file_extension": ".py",
   "mimetype": "text/x-python",
   "name": "python",
   "nbconvert_exporter": "python",
   "pygments_lexer": "ipython3",
   "version": "3.9.12"
  }
 },
 "nbformat": 4,
 "nbformat_minor": 5
}
