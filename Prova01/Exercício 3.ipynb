{
 "cells": [
  {
   "cell_type": "markdown",
   "id": "ac663466",
   "metadata": {
    "pycharm": {
     "name": "#%% md\n"
    }
   },
   "source": [
    "3 - Você foi descontrair antes da prova de IP do BIA, e resolveu jogar um jogo online de Batalha naval (Jogo Battleship no Jogos 360).\n",
    "Se empolgou pois viu que conseguiria desenvolver a sua própria versão em python. \n",
    "Você desenvolveu uma versão para jogar com os colegas, um contra o outro. Apresente e explique o seu código. (valor 3.5)"
   ]
  },
  {
   "cell_type": "markdown",
   "id": "5e860d39",
   "metadata": {
    "pycharm": {
     "name": "#%% md\n"
    }
   },
   "source": [
    "#### REGRAS: O jogo de batalha naval consiste em 2 etapas:\n",
    "\n",
    "###### Primeira etapa: Rodada de Posicionamento\n",
    "O campo é dividido em 6 linhas e 10 colunas, O usuario deverá digitar 1 para a linha 1 e assim por diante, o mesmo vale para a coluna começando em 1.\n",
    "\n",
    "São 5 navios, sendo: um de tamanho 2; dois de tamanho 3; um de tamanho 4; um de tamanho 5.\n",
    "\n",
    "Primeiro o Jogador 1 irá posicionar seus navios, aparecerá o tamanho do navio que você deve posicionar, em seguida o Jogador 1 deve informar onde ele quer que seja colocada a *frente do navio* (será feita 3 perguntas: Linha, Coluna, Vertical ou Horizontal) , em seguida o programa irá completar o resto do navio (sempre indo para as partes crescentes do campo, ou seja, caso você coloque a ponta do navio na (posicao [1] [1] vertical), o programa colocará o restante do navio em (posicao [2] [1]) , (posicao [3][1]) .... e assim por diante até que atinja o tamanho do navio. Caso escolha Horizontal, a linha se mantera fixa e a coluna variará).\n",
    "\n",
    "\n",
    "Após o Jogador 1 terminar de inserir todos os Navios, o programa avisará que é a vez do jogador 2 fazer a mesma coisa.\n",
    "\n",
    "obs: Toda vez que você posicionar um navio, será exibido naquele local o numero 1 , que significa que existe uma parte de navio ali, ou seja onde tem o numero 1, tem navio.\n",
    "\n",
    "\n",
    "\n",
    "###### Segunda etapa: Rodada de Tiros\n",
    "\n",
    "A rodada de tiros começa com o Jogador 1, será pedida a informação de linha e coluna que deseja atirar, após feito o disparado será mostrada uma mensagem avisando se errou ou se acertou, tambem será exibido ao usuario a visão do mapa do adversario, sendo:\n",
    "\n",
    "?  =  lugar desconhecido\n",
    "\n",
    "X  =  tiro na agua\n",
    "\n",
    "O  =  acertou uma parte de navio\n",
    "\n",
    "Em seguida será a vez do Jogador 2 atirar, após o disparo retornará ao Jogador 1 e assim o loop continua até que um jogador acabe com todos os navios do outro jogador.\n",
    "\n",
    "Ao final será exibida uma mensagem do Jogador que ganhou.\n",
    "\n",
    "###### Cuidados:\n",
    "\n",
    "O jogo não foi polido totalmente, podendo assim acarretar em alguns erros que quebram o programa, a seguir fique atento a alguns cuidados que devem ser tomados para que não haja quebra do programa. (Caso haja quebra, apenas terá que reiniciar todo o programa novamente...)\n",
    "\n",
    "1- Não tente posicionar um barco em uma linha fora do campo; Exemplo: O numero maximo de linhas é 6 e colunas é 10, portanto se o usuario tentar posicionar ou atirar na (posicao[7][1]) haverá quebra no programa pois não existe a linha 7. O mesmo vale para colunas, caso ultrapasse o limite de 10.\n",
    "\n",
    "1.1- Um erro parecido com o erro anterior; Quando o usuario for posicionar a ponta do navio o programa tem como função completar o restante, porem caso o usuario insira uma posicao valida mas que a sua continuação ultrapasse o campo tambem ocorrá um erro; Exemplo: Barco de tamanho 5, na (posicao[3][1] Vertical), dará erro pois pela logica a traseira do barco estaria em (posicao[7][1]), fazendo assim que ultrapasse o limite do campo. O mesmo vale para a horizontal ultrapassando o limite de colunas.\n",
    "\n",
    "2- Preste muita atenção na hora de posicionar os navios, pois caso posicione um navio onde ja foi posicionado outro não terá como o jogo terminar de forma correta.\n",
    "\n",
    "3- Preste atenção onde ja disparou um tiro, caso você dispare em um lugar que ja tenha atirado anteriormente seu turno será gasto em vão.\n",
    "\n"
   ]
  },
  {
   "cell_type": "markdown",
   "id": "65acaa06",
   "metadata": {
    "pycharm": {
     "name": "#%% md\n"
    }
   },
   "source": [
    "#### Comentarios:\n",
    "\n",
    "###### Com esse exercicio eu percebi o quao dificil é esbarrar na ideia de variavel Global e Local quando cria uma função, quase me arrependi da forma que fiz, mas depois de assistir uns 4 videos (inclusive do professor Leonardo) sobre varGlobal e varLocal , e olhar alguns sites sobre, eu consegui corrigir os infinitos erros que dava no codigo. Pelo menos serviu de aprendizado todo o trabalho. \n",
    "\n",
    "###### Por falta de tempo não quis polir o jogo afim de evitar possiveis erros do usuario, mas confirmo que eu poderia fazer-lo tranquilamente caso tivesse mais tempo. \n",
    "\n",
    "###### E tambem levei em consideração a parte do enunciado que diz : \"Você desenvolveu uma versão para jogar com os colegas, um contra o outro.\"\n",
    "\n",
    "###### Neste caso entendo que todo aluno do BIA é inteligente e confio que não cometerá erros kkkkkkkkkkkkkkk"
   ]
  },
  {
   "cell_type": "code",
   "execution_count": 9,
   "id": "c1c8cb81",
   "metadata": {
    "collapsed": true,
    "pycharm": {
     "name": "#%%\n"
    }
   },
   "outputs": [
    {
     "name": "stdout",
     "output_type": "stream",
     "text": [
      "Rodada do Jogador 1 posicionar seus navios !\n"
     ]
    },
    {
     "data": {
      "text/plain": [
       "[[0, 0, 0, 0, 0, 0, 0, 0, 0, 0],\n",
       " [0, 0, 0, 0, 0, 0, 0, 0, 0, 0],\n",
       " [0, 0, 0, 0, 0, 0, 0, 0, 0, 0],\n",
       " [0, 0, 0, 0, 0, 0, 0, 0, 0, 0],\n",
       " [0, 0, 0, 0, 0, 0, 0, 0, 0, 0],\n",
       " [0, 0, 0, 0, 0, 0, 0, 0, 0, 0]]"
      ]
     },
     "metadata": {},
     "output_type": "display_data"
    },
    {
     "name": "stdout",
     "output_type": "stream",
     "text": [
      "Navio de 2 espaços \n",
      "Qual linha você quer posicionar a ponta do navio ? 5\n",
      "Qual coluna você posicionar a ponta do navio ? 9\n",
      "Insira qual a direção que você deseja posicionar, H para a horizontal & V para vertical h\n"
     ]
    },
    {
     "data": {
      "text/plain": [
       "[[0, 0, 0, 0, 0, 0, 0, 0, 0, 0],\n",
       " [0, 0, 0, 0, 0, 0, 0, 0, 0, 0],\n",
       " [0, 0, 0, 0, 0, 0, 0, 0, 0, 0],\n",
       " [0, 0, 0, 0, 0, 0, 0, 0, 0, 0],\n",
       " [0, 0, 0, 0, 0, 0, 0, 0, 1, 1],\n",
       " [0, 0, 0, 0, 0, 0, 0, 0, 0, 0]]"
      ]
     },
     "metadata": {},
     "output_type": "display_data"
    },
    {
     "name": "stdout",
     "output_type": "stream",
     "text": [
      "Navio de 3 espaços \n",
      "Qual linha você quer posicionar a ponta do navio ? 4\n",
      "Qual coluna você posicionar a ponta do navio ? 1\n",
      "Insira qual a direção que você deseja posicionar, H para a horizontal & V para vertical v\n"
     ]
    },
    {
     "data": {
      "text/plain": [
       "[[0, 0, 0, 0, 0, 0, 0, 0, 0, 0],\n",
       " [0, 0, 0, 0, 0, 0, 0, 0, 0, 0],\n",
       " [0, 0, 0, 0, 0, 0, 0, 0, 0, 0],\n",
       " [1, 0, 0, 0, 0, 0, 0, 0, 0, 0],\n",
       " [1, 0, 0, 0, 0, 0, 0, 0, 1, 1],\n",
       " [1, 0, 0, 0, 0, 0, 0, 0, 0, 0]]"
      ]
     },
     "metadata": {},
     "output_type": "display_data"
    },
    {
     "name": "stdout",
     "output_type": "stream",
     "text": [
      "Navio de 4 espaços \n",
      "Qual linha você quer posicionar a ponta do navio ? 6\n",
      "Qual coluna você posicionar a ponta do navio ? 6\n",
      "Insira qual a direção que você deseja posicionar, H para a horizontal & V para vertical h\n"
     ]
    },
    {
     "data": {
      "text/plain": [
       "[[0, 0, 0, 0, 0, 0, 0, 0, 0, 0],\n",
       " [0, 0, 0, 0, 0, 0, 0, 0, 0, 0],\n",
       " [0, 0, 0, 0, 0, 0, 0, 0, 0, 0],\n",
       " [1, 0, 0, 0, 0, 0, 0, 0, 0, 0],\n",
       " [1, 0, 0, 0, 0, 0, 0, 0, 1, 1],\n",
       " [1, 0, 0, 0, 0, 1, 1, 1, 1, 0]]"
      ]
     },
     "metadata": {},
     "output_type": "display_data"
    },
    {
     "name": "stdout",
     "output_type": "stream",
     "text": [
      "Vez do Jogador 2 posicionar seus navios ! \n",
      "Vez do Jogador 2 posicionar seus navios ! \n",
      "Vez do Jogador 2 posicionar seus navios ! \n",
      "Vez do Jogador 2 posicionar seus navios ! \n",
      "Vez do Jogador 2 posicionar seus navios ! \n",
      "Vez do Jogador 2 posicionar seus navios ! \n",
      "Vez do Jogador 2 posicionar seus navios ! \n",
      "Vez do Jogador 2 posicionar seus navios ! \n",
      "Vez do Jogador 2 posicionar seus navios ! \n",
      "Vez do Jogador 2 posicionar seus navios ! \n",
      "Vez do Jogador 2 posicionar seus navios ! \n",
      "Vez do Jogador 2 posicionar seus navios ! \n",
      "Vez do Jogador 2 posicionar seus navios ! \n",
      "Vez do Jogador 2 posicionar seus navios ! \n",
      "Vez do Jogador 2 posicionar seus navios ! \n",
      "Vez do Jogador 2 posicionar seus navios ! \n",
      "Vez do Jogador 2 posicionar seus navios ! \n",
      "Vez do Jogador 2 posicionar seus navios ! \n",
      "Vez do Jogador 2 posicionar seus navios ! \n",
      "Vez do Jogador 2 posicionar seus navios ! \n"
     ]
    },
    {
     "data": {
      "text/plain": [
       "[[0, 0, 0, 0, 0, 0, 0, 0, 0, 0],\n",
       " [0, 0, 0, 0, 0, 0, 0, 0, 0, 0],\n",
       " [0, 0, 0, 0, 0, 0, 0, 0, 0, 0],\n",
       " [0, 0, 0, 0, 0, 0, 0, 0, 0, 0],\n",
       " [0, 0, 0, 0, 0, 0, 0, 0, 0, 0],\n",
       " [0, 0, 0, 0, 0, 0, 0, 0, 0, 0]]"
      ]
     },
     "metadata": {},
     "output_type": "display_data"
    },
    {
     "name": "stdout",
     "output_type": "stream",
     "text": [
      "Navio de 2 espaços \n",
      "Qual linha você quer posicionar a ponta do navio ? 2\n",
      "Qual coluna você posicionar a ponta do navio ? 1\n",
      "Insira qual a direção que você deseja posicionar, H para a horizontal & V para vertical v\n"
     ]
    },
    {
     "data": {
      "text/plain": [
       "[[0, 0, 0, 0, 0, 0, 0, 0, 0, 0],\n",
       " [1, 0, 0, 0, 0, 0, 0, 0, 0, 0],\n",
       " [1, 0, 0, 0, 0, 0, 0, 0, 0, 0],\n",
       " [0, 0, 0, 0, 0, 0, 0, 0, 0, 0],\n",
       " [0, 0, 0, 0, 0, 0, 0, 0, 0, 0],\n",
       " [0, 0, 0, 0, 0, 0, 0, 0, 0, 0]]"
      ]
     },
     "metadata": {},
     "output_type": "display_data"
    },
    {
     "name": "stdout",
     "output_type": "stream",
     "text": [
      "Navio de 3 espaços \n",
      "Qual linha você quer posicionar a ponta do navio ? 5\n",
      "Qual coluna você posicionar a ponta do navio ? 1\n",
      "Insira qual a direção que você deseja posicionar, H para a horizontal & V para vertical h\n"
     ]
    },
    {
     "data": {
      "text/plain": [
       "[[0, 0, 0, 0, 0, 0, 0, 0, 0, 0],\n",
       " [1, 0, 0, 0, 0, 0, 0, 0, 0, 0],\n",
       " [1, 0, 0, 0, 0, 0, 0, 0, 0, 0],\n",
       " [0, 0, 0, 0, 0, 0, 0, 0, 0, 0],\n",
       " [1, 1, 1, 0, 0, 0, 0, 0, 0, 0],\n",
       " [0, 0, 0, 0, 0, 0, 0, 0, 0, 0]]"
      ]
     },
     "metadata": {},
     "output_type": "display_data"
    },
    {
     "name": "stdout",
     "output_type": "stream",
     "text": [
      "Navio de 4 espaços \n",
      "Qual linha você quer posicionar a ponta do navio ? 3\n",
      "Qual coluna você posicionar a ponta do navio ? 10\n",
      "Insira qual a direção que você deseja posicionar, H para a horizontal & V para vertical v\n"
     ]
    },
    {
     "data": {
      "text/plain": [
       "[[0, 0, 0, 0, 0, 0, 0, 0, 0, 0],\n",
       " [1, 0, 0, 0, 0, 0, 0, 0, 0, 0],\n",
       " [1, 0, 0, 0, 0, 0, 0, 0, 0, 1],\n",
       " [0, 0, 0, 0, 0, 0, 0, 0, 0, 1],\n",
       " [1, 1, 1, 0, 0, 0, 0, 0, 0, 1],\n",
       " [0, 0, 0, 0, 0, 0, 0, 0, 0, 1]]"
      ]
     },
     "metadata": {},
     "output_type": "display_data"
    },
    {
     "name": "stdout",
     "output_type": "stream",
     "text": [
      "Rodada de TIROS !\n",
      "Rodada de TIROS !\n",
      "Rodada de TIROS !\n",
      "Rodada de TIROS !\n",
      "Rodada de TIROS !\n",
      "Rodada de TIROS !\n",
      "Rodada de TIROS !\n",
      "Rodada de TIROS !\n",
      "Rodada de TIROS !\n",
      "Rodada de TIROS !\n",
      "Rodada de TIROS !\n",
      "Rodada de TIROS !\n",
      "Rodada de TIROS !\n",
      "Rodada de TIROS !\n",
      "Rodada de TIROS !\n",
      "Vez do Jogador 1 atirar !\n",
      "Vez do Jogador 1 atirar !\n",
      "Vez do Jogador 1 atirar !\n"
     ]
    },
    {
     "data": {
      "text/plain": [
       "[['?', '?', '?', '?', '?', '?', '?', '?', '?', '?'],\n",
       " ['?', '?', '?', '?', '?', '?', '?', '?', '?', '?'],\n",
       " ['?', '?', '?', '?', '?', '?', '?', '?', '?', '?'],\n",
       " ['?', '?', '?', '?', '?', '?', '?', '?', '?', '?'],\n",
       " ['?', '?', '?', '?', '?', '?', '?', '?', '?', '?'],\n",
       " ['?', '?', '?', '?', '?', '?', '?', '?', '?', '?']]"
      ]
     },
     "metadata": {},
     "output_type": "display_data"
    },
    {
     "name": "stdout",
     "output_type": "stream",
     "text": [
      "Qual linha você quer atirar ? 1\n",
      "Qual coluna você quer atirar ? 1\n",
      "Você atirou na agua !\n",
      "Você atirou na agua !\n",
      "Você atirou na agua !\n"
     ]
    },
    {
     "data": {
      "text/plain": [
       "[['X', '?', '?', '?', '?', '?', '?', '?', '?', '?'],\n",
       " ['?', '?', '?', '?', '?', '?', '?', '?', '?', '?'],\n",
       " ['?', '?', '?', '?', '?', '?', '?', '?', '?', '?'],\n",
       " ['?', '?', '?', '?', '?', '?', '?', '?', '?', '?'],\n",
       " ['?', '?', '?', '?', '?', '?', '?', '?', '?', '?'],\n",
       " ['?', '?', '?', '?', '?', '?', '?', '?', '?', '?']]"
      ]
     },
     "metadata": {},
     "output_type": "display_data"
    },
    {
     "name": "stdout",
     "output_type": "stream",
     "text": [
      "Vez do Jogador 2 atirar !\n",
      "Vez do Jogador 2 atirar !\n",
      "Vez do Jogador 2 atirar !\n"
     ]
    },
    {
     "data": {
      "text/plain": [
       "[['?', '?', '?', '?', '?', '?', '?', '?', '?', '?'],\n",
       " ['?', '?', '?', '?', '?', '?', '?', '?', '?', '?'],\n",
       " ['?', '?', '?', '?', '?', '?', '?', '?', '?', '?'],\n",
       " ['?', '?', '?', '?', '?', '?', '?', '?', '?', '?'],\n",
       " ['?', '?', '?', '?', '?', '?', '?', '?', '?', '?'],\n",
       " ['?', '?', '?', '?', '?', '?', '?', '?', '?', '?']]"
      ]
     },
     "metadata": {},
     "output_type": "display_data"
    },
    {
     "name": "stdout",
     "output_type": "stream",
     "text": [
      "Qual linha você quer atirar ? 6\n",
      "Qual coluna você quer atirar ? 10\n",
      "Você atirou na agua !\n",
      "Você atirou na agua !\n",
      "Você atirou na agua !\n"
     ]
    },
    {
     "data": {
      "text/plain": [
       "[['?', '?', '?', '?', '?', '?', '?', '?', '?', '?'],\n",
       " ['?', '?', '?', '?', '?', '?', '?', '?', '?', '?'],\n",
       " ['?', '?', '?', '?', '?', '?', '?', '?', '?', '?'],\n",
       " ['?', '?', '?', '?', '?', '?', '?', '?', '?', '?'],\n",
       " ['?', '?', '?', '?', '?', '?', '?', '?', '?', '?'],\n",
       " ['?', '?', '?', '?', '?', '?', '?', '?', '?', 'X']]"
      ]
     },
     "metadata": {},
     "output_type": "display_data"
    },
    {
     "name": "stdout",
     "output_type": "stream",
     "text": [
      "Vez do Jogador 1 atirar !\n",
      "Vez do Jogador 1 atirar !\n",
      "Vez do Jogador 1 atirar !\n"
     ]
    },
    {
     "data": {
      "text/plain": [
       "[['X', '?', '?', '?', '?', '?', '?', '?', '?', '?'],\n",
       " ['?', '?', '?', '?', '?', '?', '?', '?', '?', '?'],\n",
       " ['?', '?', '?', '?', '?', '?', '?', '?', '?', '?'],\n",
       " ['?', '?', '?', '?', '?', '?', '?', '?', '?', '?'],\n",
       " ['?', '?', '?', '?', '?', '?', '?', '?', '?', '?'],\n",
       " ['?', '?', '?', '?', '?', '?', '?', '?', '?', '?']]"
      ]
     },
     "metadata": {},
     "output_type": "display_data"
    },
    {
     "name": "stdout",
     "output_type": "stream",
     "text": [
      "Qual linha você quer atirar ? 2\n",
      "Qual coluna você quer atirar ? 3\n",
      "Você atirou na agua !\n",
      "Você atirou na agua !\n",
      "Você atirou na agua !\n"
     ]
    },
    {
     "data": {
      "text/plain": [
       "[['X', '?', '?', '?', '?', '?', '?', '?', '?', '?'],\n",
       " ['?', '?', 'X', '?', '?', '?', '?', '?', '?', '?'],\n",
       " ['?', '?', '?', '?', '?', '?', '?', '?', '?', '?'],\n",
       " ['?', '?', '?', '?', '?', '?', '?', '?', '?', '?'],\n",
       " ['?', '?', '?', '?', '?', '?', '?', '?', '?', '?'],\n",
       " ['?', '?', '?', '?', '?', '?', '?', '?', '?', '?']]"
      ]
     },
     "metadata": {},
     "output_type": "display_data"
    },
    {
     "name": "stdout",
     "output_type": "stream",
     "text": [
      "Vez do Jogador 2 atirar !\n",
      "Vez do Jogador 2 atirar !\n",
      "Vez do Jogador 2 atirar !\n"
     ]
    },
    {
     "data": {
      "text/plain": [
       "[['?', '?', '?', '?', '?', '?', '?', '?', '?', '?'],\n",
       " ['?', '?', '?', '?', '?', '?', '?', '?', '?', '?'],\n",
       " ['?', '?', '?', '?', '?', '?', '?', '?', '?', '?'],\n",
       " ['?', '?', '?', '?', '?', '?', '?', '?', '?', '?'],\n",
       " ['?', '?', '?', '?', '?', '?', '?', '?', '?', '?'],\n",
       " ['?', '?', '?', '?', '?', '?', '?', '?', '?', 'X']]"
      ]
     },
     "metadata": {},
     "output_type": "display_data"
    },
    {
     "name": "stdout",
     "output_type": "stream",
     "text": [
      "Qual linha você quer atirar ? 1\n",
      "Qual coluna você quer atirar ? 1\n",
      "Você atirou na agua !\n",
      "Você atirou na agua !\n",
      "Você atirou na agua !\n"
     ]
    },
    {
     "data": {
      "text/plain": [
       "[['X', '?', '?', '?', '?', '?', '?', '?', '?', '?'],\n",
       " ['?', '?', '?', '?', '?', '?', '?', '?', '?', '?'],\n",
       " ['?', '?', '?', '?', '?', '?', '?', '?', '?', '?'],\n",
       " ['?', '?', '?', '?', '?', '?', '?', '?', '?', '?'],\n",
       " ['?', '?', '?', '?', '?', '?', '?', '?', '?', '?'],\n",
       " ['?', '?', '?', '?', '?', '?', '?', '?', '?', 'X']]"
      ]
     },
     "metadata": {},
     "output_type": "display_data"
    },
    {
     "name": "stdout",
     "output_type": "stream",
     "text": [
      "Vez do Jogador 1 atirar !\n",
      "Vez do Jogador 1 atirar !\n",
      "Vez do Jogador 1 atirar !\n"
     ]
    },
    {
     "data": {
      "text/plain": [
       "[['X', '?', '?', '?', '?', '?', '?', '?', '?', '?'],\n",
       " ['?', '?', 'X', '?', '?', '?', '?', '?', '?', '?'],\n",
       " ['?', '?', '?', '?', '?', '?', '?', '?', '?', '?'],\n",
       " ['?', '?', '?', '?', '?', '?', '?', '?', '?', '?'],\n",
       " ['?', '?', '?', '?', '?', '?', '?', '?', '?', '?'],\n",
       " ['?', '?', '?', '?', '?', '?', '?', '?', '?', '?']]"
      ]
     },
     "metadata": {},
     "output_type": "display_data"
    },
    {
     "name": "stdout",
     "output_type": "stream",
     "text": [
      "Qual linha você quer atirar ? 4\n",
      "Qual coluna você quer atirar ? 5\n",
      "Você atirou na agua !\n",
      "Você atirou na agua !\n",
      "Você atirou na agua !\n"
     ]
    },
    {
     "data": {
      "text/plain": [
       "[['X', '?', '?', '?', '?', '?', '?', '?', '?', '?'],\n",
       " ['?', '?', 'X', '?', '?', '?', '?', '?', '?', '?'],\n",
       " ['?', '?', '?', '?', '?', '?', '?', '?', '?', '?'],\n",
       " ['?', '?', '?', '?', 'X', '?', '?', '?', '?', '?'],\n",
       " ['?', '?', '?', '?', '?', '?', '?', '?', '?', '?'],\n",
       " ['?', '?', '?', '?', '?', '?', '?', '?', '?', '?']]"
      ]
     },
     "metadata": {},
     "output_type": "display_data"
    },
    {
     "name": "stdout",
     "output_type": "stream",
     "text": [
      "Vez do Jogador 2 atirar !\n",
      "Vez do Jogador 2 atirar !\n",
      "Vez do Jogador 2 atirar !\n"
     ]
    },
    {
     "data": {
      "text/plain": [
       "[['X', '?', '?', '?', '?', '?', '?', '?', '?', '?'],\n",
       " ['?', '?', '?', '?', '?', '?', '?', '?', '?', '?'],\n",
       " ['?', '?', '?', '?', '?', '?', '?', '?', '?', '?'],\n",
       " ['?', '?', '?', '?', '?', '?', '?', '?', '?', '?'],\n",
       " ['?', '?', '?', '?', '?', '?', '?', '?', '?', '?'],\n",
       " ['?', '?', '?', '?', '?', '?', '?', '?', '?', 'X']]"
      ]
     },
     "metadata": {},
     "output_type": "display_data"
    },
    {
     "name": "stdout",
     "output_type": "stream",
     "text": [
      "Qual linha você quer atirar ? 3\n",
      "Qual coluna você quer atirar ? 1\n",
      "Você atirou na agua !\n",
      "Você atirou na agua !\n",
      "Você atirou na agua !\n"
     ]
    },
    {
     "data": {
      "text/plain": [
       "[['X', '?', '?', '?', '?', '?', '?', '?', '?', '?'],\n",
       " ['?', '?', '?', '?', '?', '?', '?', '?', '?', '?'],\n",
       " ['X', '?', '?', '?', '?', '?', '?', '?', '?', '?'],\n",
       " ['?', '?', '?', '?', '?', '?', '?', '?', '?', '?'],\n",
       " ['?', '?', '?', '?', '?', '?', '?', '?', '?', '?'],\n",
       " ['?', '?', '?', '?', '?', '?', '?', '?', '?', 'X']]"
      ]
     },
     "metadata": {},
     "output_type": "display_data"
    },
    {
     "name": "stdout",
     "output_type": "stream",
     "text": [
      "Vez do Jogador 1 atirar !\n",
      "Vez do Jogador 1 atirar !\n",
      "Vez do Jogador 1 atirar !\n"
     ]
    },
    {
     "data": {
      "text/plain": [
       "[['X', '?', '?', '?', '?', '?', '?', '?', '?', '?'],\n",
       " ['?', '?', 'X', '?', '?', '?', '?', '?', '?', '?'],\n",
       " ['?', '?', '?', '?', '?', '?', '?', '?', '?', '?'],\n",
       " ['?', '?', '?', '?', 'X', '?', '?', '?', '?', '?'],\n",
       " ['?', '?', '?', '?', '?', '?', '?', '?', '?', '?'],\n",
       " ['?', '?', '?', '?', '?', '?', '?', '?', '?', '?']]"
      ]
     },
     "metadata": {},
     "output_type": "display_data"
    },
    {
     "name": "stdout",
     "output_type": "stream",
     "text": [
      "Qual linha você quer atirar ? 1\n",
      "Qual coluna você quer atirar ? 9\n",
      "Você atirou na agua !\n",
      "Você atirou na agua !\n",
      "Você atirou na agua !\n"
     ]
    },
    {
     "data": {
      "text/plain": [
       "[['X', '?', '?', '?', '?', '?', '?', '?', 'X', '?'],\n",
       " ['?', '?', 'X', '?', '?', '?', '?', '?', '?', '?'],\n",
       " ['?', '?', '?', '?', '?', '?', '?', '?', '?', '?'],\n",
       " ['?', '?', '?', '?', 'X', '?', '?', '?', '?', '?'],\n",
       " ['?', '?', '?', '?', '?', '?', '?', '?', '?', '?'],\n",
       " ['?', '?', '?', '?', '?', '?', '?', '?', '?', '?']]"
      ]
     },
     "metadata": {},
     "output_type": "display_data"
    },
    {
     "name": "stdout",
     "output_type": "stream",
     "text": [
      "Vez do Jogador 2 atirar !\n",
      "Vez do Jogador 2 atirar !\n",
      "Vez do Jogador 2 atirar !\n"
     ]
    },
    {
     "data": {
      "text/plain": [
       "[['X', '?', '?', '?', '?', '?', '?', '?', '?', '?'],\n",
       " ['?', '?', '?', '?', '?', '?', '?', '?', '?', '?'],\n",
       " ['X', '?', '?', '?', '?', '?', '?', '?', '?', '?'],\n",
       " ['?', '?', '?', '?', '?', '?', '?', '?', '?', '?'],\n",
       " ['?', '?', '?', '?', '?', '?', '?', '?', '?', '?'],\n",
       " ['?', '?', '?', '?', '?', '?', '?', '?', '?', 'X']]"
      ]
     },
     "metadata": {},
     "output_type": "display_data"
    },
    {
     "name": "stdout",
     "output_type": "stream",
     "text": [
      "Qual linha você quer atirar ? 5\n",
      "Qual coluna você quer atirar ? 1\n",
      "Você acertou um navio !!!\n",
      "Você acertou um navio !!!\n",
      "Você acertou um navio !!!\n",
      "Você acertou um navio !!!\n",
      "Você acertou um navio !!!\n"
     ]
    },
    {
     "data": {
      "text/plain": [
       "[['X', '?', '?', '?', '?', '?', '?', '?', '?', '?'],\n",
       " ['?', '?', '?', '?', '?', '?', '?', '?', '?', '?'],\n",
       " ['X', '?', '?', '?', '?', '?', '?', '?', '?', '?'],\n",
       " ['?', '?', '?', '?', '?', '?', '?', '?', '?', '?'],\n",
       " ['O', '?', '?', '?', '?', '?', '?', '?', '?', '?'],\n",
       " ['?', '?', '?', '?', '?', '?', '?', '?', '?', 'X']]"
      ]
     },
     "metadata": {},
     "output_type": "display_data"
    },
    {
     "name": "stdout",
     "output_type": "stream",
     "text": [
      "Vez do Jogador 1 atirar !\n",
      "Vez do Jogador 1 atirar !\n",
      "Vez do Jogador 1 atirar !\n"
     ]
    },
    {
     "data": {
      "text/plain": [
       "[['X', '?', '?', '?', '?', '?', '?', '?', 'X', '?'],\n",
       " ['?', '?', 'X', '?', '?', '?', '?', '?', '?', '?'],\n",
       " ['?', '?', '?', '?', '?', '?', '?', '?', '?', '?'],\n",
       " ['?', '?', '?', '?', 'X', '?', '?', '?', '?', '?'],\n",
       " ['?', '?', '?', '?', '?', '?', '?', '?', '?', '?'],\n",
       " ['?', '?', '?', '?', '?', '?', '?', '?', '?', '?']]"
      ]
     },
     "metadata": {},
     "output_type": "display_data"
    },
    {
     "name": "stdout",
     "output_type": "stream",
     "text": [
      "Qual linha você quer atirar ? 6\n",
      "Qual coluna você quer atirar ? 7\n",
      "Você atirou na agua !\n",
      "Você atirou na agua !\n",
      "Você atirou na agua !\n"
     ]
    },
    {
     "data": {
      "text/plain": [
       "[['X', '?', '?', '?', '?', '?', '?', '?', 'X', '?'],\n",
       " ['?', '?', 'X', '?', '?', '?', '?', '?', '?', '?'],\n",
       " ['?', '?', '?', '?', '?', '?', '?', '?', '?', '?'],\n",
       " ['?', '?', '?', '?', 'X', '?', '?', '?', '?', '?'],\n",
       " ['?', '?', '?', '?', '?', '?', '?', '?', '?', '?'],\n",
       " ['?', '?', '?', '?', '?', '?', 'X', '?', '?', '?']]"
      ]
     },
     "metadata": {},
     "output_type": "display_data"
    },
    {
     "name": "stdout",
     "output_type": "stream",
     "text": [
      "Vez do Jogador 2 atirar !\n",
      "Vez do Jogador 2 atirar !\n",
      "Vez do Jogador 2 atirar !\n"
     ]
    },
    {
     "data": {
      "text/plain": [
       "[['X', '?', '?', '?', '?', '?', '?', '?', '?', '?'],\n",
       " ['?', '?', '?', '?', '?', '?', '?', '?', '?', '?'],\n",
       " ['X', '?', '?', '?', '?', '?', '?', '?', '?', '?'],\n",
       " ['?', '?', '?', '?', '?', '?', '?', '?', '?', '?'],\n",
       " ['O', '?', '?', '?', '?', '?', '?', '?', '?', '?'],\n",
       " ['?', '?', '?', '?', '?', '?', '?', '?', '?', 'X']]"
      ]
     },
     "metadata": {},
     "output_type": "display_data"
    },
    {
     "name": "stdout",
     "output_type": "stream",
     "text": [
      "Qual linha você quer atirar ? 4\n",
      "Qual coluna você quer atirar ? 1\n",
      "Você acertou um navio !!!\n",
      "Você acertou um navio !!!\n",
      "Você acertou um navio !!!\n",
      "Você acertou um navio !!!\n",
      "Você acertou um navio !!!\n"
     ]
    },
    {
     "data": {
      "text/plain": [
       "[['X', '?', '?', '?', '?', '?', '?', '?', '?', '?'],\n",
       " ['?', '?', '?', '?', '?', '?', '?', '?', '?', '?'],\n",
       " ['X', '?', '?', '?', '?', '?', '?', '?', '?', '?'],\n",
       " ['O', '?', '?', '?', '?', '?', '?', '?', '?', '?'],\n",
       " ['O', '?', '?', '?', '?', '?', '?', '?', '?', '?'],\n",
       " ['?', '?', '?', '?', '?', '?', '?', '?', '?', 'X']]"
      ]
     },
     "metadata": {},
     "output_type": "display_data"
    },
    {
     "name": "stdout",
     "output_type": "stream",
     "text": [
      "Vez do Jogador 1 atirar !\n",
      "Vez do Jogador 1 atirar !\n",
      "Vez do Jogador 1 atirar !\n"
     ]
    },
    {
     "data": {
      "text/plain": [
       "[['X', '?', '?', '?', '?', '?', '?', '?', 'X', '?'],\n",
       " ['?', '?', 'X', '?', '?', '?', '?', '?', '?', '?'],\n",
       " ['?', '?', '?', '?', '?', '?', '?', '?', '?', '?'],\n",
       " ['?', '?', '?', '?', 'X', '?', '?', '?', '?', '?'],\n",
       " ['?', '?', '?', '?', '?', '?', '?', '?', '?', '?'],\n",
       " ['?', '?', '?', '?', '?', '?', 'X', '?', '?', '?']]"
      ]
     },
     "metadata": {},
     "output_type": "display_data"
    },
    {
     "name": "stdout",
     "output_type": "stream",
     "text": [
      "Qual linha você quer atirar ? 6\n",
      "Qual coluna você quer atirar ? 2\n",
      "Você atirou na agua !\n",
      "Você atirou na agua !\n",
      "Você atirou na agua !\n"
     ]
    },
    {
     "data": {
      "text/plain": [
       "[['X', '?', '?', '?', '?', '?', '?', '?', 'X', '?'],\n",
       " ['?', '?', 'X', '?', '?', '?', '?', '?', '?', '?'],\n",
       " ['?', '?', '?', '?', '?', '?', '?', '?', '?', '?'],\n",
       " ['?', '?', '?', '?', 'X', '?', '?', '?', '?', '?'],\n",
       " ['?', '?', '?', '?', '?', '?', '?', '?', '?', '?'],\n",
       " ['?', 'X', '?', '?', '?', '?', 'X', '?', '?', '?']]"
      ]
     },
     "metadata": {},
     "output_type": "display_data"
    },
    {
     "name": "stdout",
     "output_type": "stream",
     "text": [
      "Vez do Jogador 2 atirar !\n",
      "Vez do Jogador 2 atirar !\n",
      "Vez do Jogador 2 atirar !\n"
     ]
    },
    {
     "data": {
      "text/plain": [
       "[['X', '?', '?', '?', '?', '?', '?', '?', '?', '?'],\n",
       " ['?', '?', '?', '?', '?', '?', '?', '?', '?', '?'],\n",
       " ['X', '?', '?', '?', '?', '?', '?', '?', '?', '?'],\n",
       " ['O', '?', '?', '?', '?', '?', '?', '?', '?', '?'],\n",
       " ['O', '?', '?', '?', '?', '?', '?', '?', '?', '?'],\n",
       " ['?', '?', '?', '?', '?', '?', '?', '?', '?', 'X']]"
      ]
     },
     "metadata": {},
     "output_type": "display_data"
    },
    {
     "name": "stdout",
     "output_type": "stream",
     "text": [
      "Qual linha você quer atirar ? 6\n",
      "Qual coluna você quer atirar ? 1\n",
      "Você acertou um navio !!!\n",
      "Você acertou um navio !!!\n",
      "Você acertou um navio !!!\n",
      "Você acertou um navio !!!\n",
      "Você acertou um navio !!!\n"
     ]
    },
    {
     "data": {
      "text/plain": [
       "[['X', '?', '?', '?', '?', '?', '?', '?', '?', '?'],\n",
       " ['?', '?', '?', '?', '?', '?', '?', '?', '?', '?'],\n",
       " ['X', '?', '?', '?', '?', '?', '?', '?', '?', '?'],\n",
       " ['O', '?', '?', '?', '?', '?', '?', '?', '?', '?'],\n",
       " ['O', '?', '?', '?', '?', '?', '?', '?', '?', '?'],\n",
       " ['O', '?', '?', '?', '?', '?', '?', '?', '?', 'X']]"
      ]
     },
     "metadata": {},
     "output_type": "display_data"
    },
    {
     "name": "stdout",
     "output_type": "stream",
     "text": [
      "Vez do Jogador 1 atirar !\n",
      "Vez do Jogador 1 atirar !\n",
      "Vez do Jogador 1 atirar !\n"
     ]
    },
    {
     "data": {
      "text/plain": [
       "[['X', '?', '?', '?', '?', '?', '?', '?', 'X', '?'],\n",
       " ['?', '?', 'X', '?', '?', '?', '?', '?', '?', '?'],\n",
       " ['?', '?', '?', '?', '?', '?', '?', '?', '?', '?'],\n",
       " ['?', '?', '?', '?', 'X', '?', '?', '?', '?', '?'],\n",
       " ['?', '?', '?', '?', '?', '?', '?', '?', '?', '?'],\n",
       " ['?', 'X', '?', '?', '?', '?', 'X', '?', '?', '?']]"
      ]
     },
     "metadata": {},
     "output_type": "display_data"
    },
    {
     "name": "stdout",
     "output_type": "stream",
     "text": [
      "Qual linha você quer atirar ? 7\n"
     ]
    },
    {
     "ename": "KeyboardInterrupt",
     "evalue": "Interrupted by user",
     "output_type": "error",
     "traceback": [
      "\u001b[0;31m---------------------------------------------------------------------------\u001b[0m",
      "\u001b[0;31mKeyboardInterrupt\u001b[0m                         Traceback (most recent call last)",
      "Input \u001b[0;32mIn [9]\u001b[0m, in \u001b[0;36m<cell line: 150>\u001b[0;34m()\u001b[0m\n\u001b[1;32m    152\u001b[0m     \u001b[38;5;28mprint\u001b[39m(\u001b[38;5;124m'\u001b[39m\u001b[38;5;124mVez do Jogador 1 atirar !\u001b[39m\u001b[38;5;124m'\u001b[39m) \u001b[38;5;66;03m#exibir 3 vezes a mensagem de qual jogador vai atirar   \u001b[39;00m\n\u001b[1;32m    153\u001b[0m display(visao_jogador_1)\n\u001b[0;32m--> 154\u001b[0m \u001b[43mtiro_jogador_1\u001b[49m\u001b[43m(\u001b[49m\u001b[43m)\u001b[49m\n\u001b[1;32m    155\u001b[0m \u001b[38;5;28;01mif\u001b[39;00m vida_jogador_2 \u001b[38;5;241m==\u001b[39m \u001b[38;5;241m0\u001b[39m: \u001b[38;5;66;03m#verificar quantas vidas restam do inimigo após o tiro\u001b[39;00m\n\u001b[1;32m    156\u001b[0m     \u001b[38;5;28;01mfor\u001b[39;00m i \u001b[38;5;129;01min\u001b[39;00m \u001b[38;5;28mrange\u001b[39m(\u001b[38;5;241m5\u001b[39m):\u001b[38;5;66;03m#mostrar qual jogador ganhou\u001b[39;00m\n",
      "Input \u001b[0;32mIn [9]\u001b[0m, in \u001b[0;36mtiro_jogador_1\u001b[0;34m()\u001b[0m\n\u001b[1;32m     96\u001b[0m \u001b[38;5;28;01mglobal\u001b[39;00m coluna\n\u001b[1;32m     97\u001b[0m \u001b[38;5;28;01mglobal\u001b[39;00m vida_jogador_2\n\u001b[0;32m---> 98\u001b[0m \u001b[43mpergunta_tiro\u001b[49m\u001b[43m(\u001b[49m\u001b[43m)\u001b[49m \u001b[38;5;66;03m#chamando a função\u001b[39;00m\n\u001b[1;32m     99\u001b[0m conversor() \u001b[38;5;66;03m#chamando a função\u001b[39;00m\n\u001b[1;32m    101\u001b[0m valor \u001b[38;5;241m=\u001b[39m \u001b[38;5;28mstr\u001b[39m(campo_b[linha][coluna]) \u001b[38;5;66;03m#variavel para auxiliar a verificação do lugar em que o tiro foi dado\u001b[39;00m\n",
      "Input \u001b[0;32mIn [9]\u001b[0m, in \u001b[0;36mpergunta_tiro\u001b[0;34m()\u001b[0m\n\u001b[1;32m     36\u001b[0m \u001b[38;5;28;01mglobal\u001b[39;00m coluna\n\u001b[1;32m     37\u001b[0m linha \u001b[38;5;241m=\u001b[39m \u001b[38;5;28mint\u001b[39m(\u001b[38;5;28minput\u001b[39m(\u001b[38;5;124m'\u001b[39m\u001b[38;5;124mQual linha você quer atirar ? \u001b[39m\u001b[38;5;124m'\u001b[39m)) \u001b[38;5;66;03m#pede a linha que será disparado o tiro\u001b[39;00m\n\u001b[0;32m---> 38\u001b[0m coluna \u001b[38;5;241m=\u001b[39m \u001b[38;5;28mint\u001b[39m(\u001b[38;5;28;43minput\u001b[39;49m\u001b[43m(\u001b[49m\u001b[38;5;124;43m'\u001b[39;49m\u001b[38;5;124;43mQual coluna você quer atirar ? \u001b[39;49m\u001b[38;5;124;43m'\u001b[39;49m\u001b[43m)\u001b[49m)\n",
      "File \u001b[0;32m~/anaconda3/lib/python3.9/site-packages/ipykernel/kernelbase.py:1075\u001b[0m, in \u001b[0;36mKernel.raw_input\u001b[0;34m(self, prompt)\u001b[0m\n\u001b[1;32m   1071\u001b[0m \u001b[38;5;28;01mif\u001b[39;00m \u001b[38;5;129;01mnot\u001b[39;00m \u001b[38;5;28mself\u001b[39m\u001b[38;5;241m.\u001b[39m_allow_stdin:\n\u001b[1;32m   1072\u001b[0m     \u001b[38;5;28;01mraise\u001b[39;00m StdinNotImplementedError(\n\u001b[1;32m   1073\u001b[0m         \u001b[38;5;124m\"\u001b[39m\u001b[38;5;124mraw_input was called, but this frontend does not support input requests.\u001b[39m\u001b[38;5;124m\"\u001b[39m\n\u001b[1;32m   1074\u001b[0m     )\n\u001b[0;32m-> 1075\u001b[0m \u001b[38;5;28;01mreturn\u001b[39;00m \u001b[38;5;28;43mself\u001b[39;49m\u001b[38;5;241;43m.\u001b[39;49m\u001b[43m_input_request\u001b[49m\u001b[43m(\u001b[49m\n\u001b[1;32m   1076\u001b[0m \u001b[43m    \u001b[49m\u001b[38;5;28;43mstr\u001b[39;49m\u001b[43m(\u001b[49m\u001b[43mprompt\u001b[49m\u001b[43m)\u001b[49m\u001b[43m,\u001b[49m\n\u001b[1;32m   1077\u001b[0m \u001b[43m    \u001b[49m\u001b[38;5;28;43mself\u001b[39;49m\u001b[38;5;241;43m.\u001b[39;49m\u001b[43m_parent_ident\u001b[49m\u001b[43m[\u001b[49m\u001b[38;5;124;43m\"\u001b[39;49m\u001b[38;5;124;43mshell\u001b[39;49m\u001b[38;5;124;43m\"\u001b[39;49m\u001b[43m]\u001b[49m\u001b[43m,\u001b[49m\n\u001b[1;32m   1078\u001b[0m \u001b[43m    \u001b[49m\u001b[38;5;28;43mself\u001b[39;49m\u001b[38;5;241;43m.\u001b[39;49m\u001b[43mget_parent\u001b[49m\u001b[43m(\u001b[49m\u001b[38;5;124;43m\"\u001b[39;49m\u001b[38;5;124;43mshell\u001b[39;49m\u001b[38;5;124;43m\"\u001b[39;49m\u001b[43m)\u001b[49m\u001b[43m,\u001b[49m\n\u001b[1;32m   1079\u001b[0m \u001b[43m    \u001b[49m\u001b[43mpassword\u001b[49m\u001b[38;5;241;43m=\u001b[39;49m\u001b[38;5;28;43;01mFalse\u001b[39;49;00m\u001b[43m,\u001b[49m\n\u001b[1;32m   1080\u001b[0m \u001b[43m\u001b[49m\u001b[43m)\u001b[49m\n",
      "File \u001b[0;32m~/anaconda3/lib/python3.9/site-packages/ipykernel/kernelbase.py:1120\u001b[0m, in \u001b[0;36mKernel._input_request\u001b[0;34m(self, prompt, ident, parent, password)\u001b[0m\n\u001b[1;32m   1117\u001b[0m             \u001b[38;5;28;01mbreak\u001b[39;00m\n\u001b[1;32m   1118\u001b[0m \u001b[38;5;28;01mexcept\u001b[39;00m \u001b[38;5;167;01mKeyboardInterrupt\u001b[39;00m:\n\u001b[1;32m   1119\u001b[0m     \u001b[38;5;66;03m# re-raise KeyboardInterrupt, to truncate traceback\u001b[39;00m\n\u001b[0;32m-> 1120\u001b[0m     \u001b[38;5;28;01mraise\u001b[39;00m \u001b[38;5;167;01mKeyboardInterrupt\u001b[39;00m(\u001b[38;5;124m\"\u001b[39m\u001b[38;5;124mInterrupted by user\u001b[39m\u001b[38;5;124m\"\u001b[39m) \u001b[38;5;28;01mfrom\u001b[39;00m \u001b[38;5;28mNone\u001b[39m\n\u001b[1;32m   1121\u001b[0m \u001b[38;5;28;01mexcept\u001b[39;00m \u001b[38;5;167;01mException\u001b[39;00m:\n\u001b[1;32m   1122\u001b[0m     \u001b[38;5;28mself\u001b[39m\u001b[38;5;241m.\u001b[39mlog\u001b[38;5;241m.\u001b[39mwarning(\u001b[38;5;124m\"\u001b[39m\u001b[38;5;124mInvalid Message:\u001b[39m\u001b[38;5;124m\"\u001b[39m, exc_info\u001b[38;5;241m=\u001b[39m\u001b[38;5;28;01mTrue\u001b[39;00m)\n",
      "\u001b[0;31mKeyboardInterrupt\u001b[0m: Interrupted by user"
     ]
    }
   ],
   "source": [
    "campo_a = [] #criando o campo do jogador 1\n",
    "campo_b = [] #criando o campo do jogador 2\n",
    "visao_jogador_1 = [] #criando o campo de visão do jogador 1 referente ao campo inimigo.\n",
    "visao_jogador_2 = [] #criando o campo de visão do jogador 2 referente ao campo inimigo.\n",
    "\n",
    "tamanhos_dos_navios = [2,3,3,4,5] #criar lista com os diferentes tamanhos de navios\n",
    "\n",
    "vida_jogador_1 = sum(tamanhos_dos_navios)\n",
    "vida_jogador_2 = sum(tamanhos_dos_navios)\n",
    "\n",
    "for vazio in range(6): #atribuindo valor aos campos dos jogadores\n",
    "    campo_a.append([0]*10) #gerando o gabarito do campo A\n",
    "    campo_b.append([0]*10) #gerando o gabarito do campo B\n",
    "    visao_jogador_1.append(['?']*10) #gerando a visão do jogador 1 a respeito do campo do jogador 2\n",
    "    visao_jogador_2.append(['?']*10) #gerando a visão do jogador 2 a respeito do campo do jogador 1\n",
    "\n",
    "\n",
    "\n",
    "def conversor(): #função para ajudar os jogadores a não precisar considerar linha e coluna começando em 0\n",
    "    global linha\n",
    "    global coluna\n",
    "    linha -= 1 \n",
    "    coluna -= 1\n",
    "    \n",
    "def perguntas_posicao(): #para diminuir as linhas do código \n",
    "    global linha\n",
    "    global coluna\n",
    "    global direcao\n",
    "    linha = int(input('Qual linha você quer posicionar a ponta do navio ? '))#pede a linha da frente do navio\n",
    "    coluna = int(input('Qual coluna você posicionar a ponta do navio ? ')) #pede a coluna da frente do navio\n",
    "    direcao = str(input('Insira qual a direção que você deseja posicionar, H para a horizontal & V para vertical ')).upper() #pede a direção do navio, e coloca a resposta do jogador em letra maiscula.\n",
    "    \n",
    "def pergunta_tiro(): #para diminuir as linhas de codigo\n",
    "    global linha\n",
    "    global coluna\n",
    "    linha = int(input('Qual linha você quer atirar ? ')) #pede a linha que será disparado o tiro\n",
    "    coluna = int(input('Qual coluna você quer atirar ? ')) #pede a coluna que será disparado o tiro\n",
    "    \n",
    "\n",
    "def posicao_jogador_1(): #criando funcao de posicionar os navios para o jogador 1 \n",
    "    global linha\n",
    "    global coluna\n",
    "    global direcao\n",
    "    for navio in tamanhos_dos_navios: #Percorrer a lista de navios e seus tamanhos\n",
    "        \n",
    "        print(f'Navio de {navio} espaços ') #Mostrar qual o navio e sua quantidade de espaços.\n",
    "\n",
    "        perguntas_posicao() #chamando a função\n",
    "        conversor() #chamando a função\n",
    "        \n",
    "        for espaco in range(navio): #todo o for é para adicionar o restante do tamanho do navio, partindo das respostas do usario a respeito de onde é a frente do navio.\n",
    "            campo_a[linha][coluna] = 1 \n",
    "            if direcao == \"H\":\n",
    "                coluna += 1\n",
    "            elif direcao == \"V\":\n",
    "                linha += 1\n",
    "            else:\n",
    "                for i in range(5):\n",
    "                    print('ERRO')\n",
    "                print('Insira somente V ou H')\n",
    "                direcao = str(input('Insira qual a direção que você deseja posicionar, H para a horizontal & V para vertical ')).upper()\n",
    "\n",
    "                \n",
    "        display(campo_a)\n",
    "        \n",
    "def posicao_jogador_2(): #criando funcao de posicionar os navios para o jogador 2 (como é quase o mesmo codigo não será comentado, apenas a parte que houve alteração será comentada.) \n",
    "    global linha\n",
    "    global coluna\n",
    "    global direcao\n",
    "    \n",
    "    for navio in tamanhos_dos_navios:\n",
    "        \n",
    "        print(f'Navio de {navio} espaços ')\n",
    "\n",
    "        perguntas_posicao()\n",
    "        conversor()\n",
    "        \n",
    "        for espaco in range(navio):\n",
    "            campo_b[linha][coluna] = 1 #unica alteração foi o campo / a matriz que vai receber os valores.\n",
    "            if direcao == \"H\":\n",
    "                coluna += 1\n",
    "            elif direcao == \"V\":\n",
    "                linha += 1\n",
    "            else:\n",
    "                for i in range(5):\n",
    "                    print('ERRO')\n",
    "                print('Insira somente V ou H')\n",
    "                direcao = str(input('Insira qual a direção que você deseja posicionar, H para a horizontal & V para vertical ')).upper()\n",
    "\n",
    "                \n",
    "        display(campo_b) #mostrar o campo B\n",
    "               \n",
    "def tiro_jogador_1(): #criando a função de tiro do jogador 1\n",
    "    global linha\n",
    "    global coluna\n",
    "    global vida_jogador_2\n",
    "    pergunta_tiro() #chamando a função\n",
    "    conversor() #chamando a função\n",
    "   \n",
    "    valor = str(campo_b[linha][coluna]) #variavel para auxiliar a verificação do lugar em que o tiro foi dado\n",
    "    \n",
    "    #descobrir se acertou ou erro o tiro\n",
    "    if valor in '1': \n",
    "        visao_jogador_1[linha][coluna] = 'O' #caso tenha acertado, no campo de visão irá aparecer um 'O' naquela posição\n",
    "        vida_jogador_2 -= 1 #tira uma vida do jogador 2\n",
    "        \n",
    "        for i in range(5): #avisar o jogador que acertou o tiro \n",
    "            print('Você acertou um navio !!!')\n",
    "    else:\n",
    "        visao_jogador_1[linha][coluna] = 'X' #caso tenha errado, no campo de visão irá aparecer um X naquela posição\n",
    "        for i in range(3): #avisar o jogador que errou o tiro\n",
    "            print('Você atirou na agua !')\n",
    "    display(visao_jogador_1) #mostrar o resultado final da rodada.\n",
    "    \n",
    "def tiro_jogador_2(): #criando a função de tiro do jogador 2(Não será comentada pois é praticamente o mesmo codigo do tiro do jogador 1, mudando apenas a matriz gabarito afetada, e o campo de visão do jogador)\n",
    "    global linha\n",
    "    global coluna\n",
    "    global vida_jogador_1\n",
    "\n",
    "    pergunta_tiro()\n",
    "    conversor()\n",
    "   \n",
    "    valor = str(campo_a[linha][coluna])\n",
    "    \n",
    "    if valor in '1': \n",
    "        visao_jogador_2[linha][coluna] = 'O'\n",
    "        vida_jogador_1 -= 1 #tira uma vida do jogador 1\n",
    "        for i in range(5):\n",
    "            print('Você acertou um navio !!!')\n",
    "    else:\n",
    "        visao_jogador_2[linha][coluna] = 'X'\n",
    "        for i in range(3):\n",
    "            print('Você atirou na agua !')\n",
    "    display(visao_jogador_2)    \n",
    "    \n",
    "print('Rodada do Jogador 1 posicionar seus navios !')    \n",
    "display(campo_a) #mostrar o campo A   \n",
    "posicao_jogador_1()\n",
    "\n",
    "for i in range(20): #mostrar que agora é a vez do jogador 2 inserir suas posições de barco\n",
    "    print('Vez do Jogador 2 posicionar seus navios ! ')\n",
    "    \n",
    "display(campo_b)  #mostrar o campo B      \n",
    "posicao_jogador_2()\n",
    "\n",
    "for i in range(15): #mostrar aos jogadores que começou a rodada de tiros!\n",
    "    print('Rodada de TIROS !')\n",
    "    \n",
    "for i in range(60): #vezes que ambos jogadores darão tiros, o numero 60 é escolhido pois o numero maximo de jogadas para terminar o jogo é 60.\n",
    "    for z in range(3):\n",
    "        print('Vez do Jogador 1 atirar !') #exibir 3 vezes a mensagem de qual jogador vai atirar   \n",
    "    display(visao_jogador_1)\n",
    "    tiro_jogador_1()\n",
    "    if vida_jogador_2 == 0: #verificar quantas vidas restam do inimigo após o tiro\n",
    "        for i in range(5):#mostrar qual jogador ganhou\n",
    "            print('O jogador 1 ganhou !!!')\n",
    "        break #terminar o jogo caso alguem tenha zerado as vidas\n",
    "        \n",
    "    else:\n",
    "        pass\n",
    "    \n",
    "    for y in range(3): #exibir 3 vezes a mensagem de qual jogador vai atirar \n",
    "        print('Vez do Jogador 2 atirar !')     \n",
    "    display(visao_jogador_2)\n",
    "    tiro_jogador_2()\n",
    "    if vida_jogador_1 == 0: #verificar quantas vidas restam do inimigo após o tiro\n",
    "        for i in range(5): #mostrar qual jogador ganhou\n",
    "            print('O jogador 2 ganhou !!!')\n",
    "        break #terminar o jogo caso alguem tenha zerado as vidas\n",
    "    else:\n",
    "        pass\n",
    "\n",
    "        \n"
   ]
  }
 ],
 "metadata": {
  "kernelspec": {
   "display_name": "Python 3 (ipykernel)",
   "language": "python",
   "name": "python3"
  },
  "language_info": {
   "codemirror_mode": {
    "name": "ipython",
    "version": 3
   },
   "file_extension": ".py",
   "mimetype": "text/x-python",
   "name": "python",
   "nbconvert_exporter": "python",
   "pygments_lexer": "ipython3",
   "version": "3.9.12"
  }
 },
 "nbformat": 4,
 "nbformat_minor": 5
}
